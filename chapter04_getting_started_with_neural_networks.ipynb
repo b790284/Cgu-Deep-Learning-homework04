{
  "cells": [
    {
      "cell_type": "markdown",
      "metadata": {
        "id": "krpOn6Ygc-L0"
      },
      "source": [
        "This is a companion notebook for the book [Deep Learning with Python, Second Edition](https://www.manning.com/books/deep-learning-with-python-second-edition?a_aid=keras&a_bid=76564dff). For readability, it only contains runnable code blocks and section titles, and omits everything else in the book: text paragraphs, figures, and pseudocode.\n",
        "\n",
        "**If you want to be able to follow what's going on, I recommend reading the notebook side by side with your copy of the book.**\n",
        "\n",
        "This notebook was generated for TensorFlow 2.6."
      ]
    },
    {
      "cell_type": "markdown",
      "metadata": {
        "id": "SHW8n0Hoc-L3"
      },
      "source": [
        "# Getting started with neural networks: Classification and regression"
      ]
    },
    {
      "cell_type": "markdown",
      "metadata": {
        "id": "ndJq7eJoc-L3"
      },
      "source": [
        "## Classifying movie reviews: A binary classification example"
      ]
    },
    {
      "cell_type": "markdown",
      "metadata": {
        "id": "OPzyv92Ac-L3"
      },
      "source": [
        "### The IMDB dataset"
      ]
    },
    {
      "cell_type": "markdown",
      "metadata": {
        "id": "7upnyqyMc-L3"
      },
      "source": [
        "**Loading the IMDB dataset**"
      ]
    },
    {
      "cell_type": "code",
      "execution_count": 2,
      "metadata": {
        "colab": {
          "base_uri": "https://localhost:8080/"
        },
        "id": "aBuPOj37c-L3",
        "outputId": "89473f62-ed6b-4fcf-80e2-062606699dfd"
      },
      "outputs": [
        {
          "output_type": "stream",
          "name": "stdout",
          "text": [
            "Downloading data from https://storage.googleapis.com/tensorflow/tf-keras-datasets/imdb.npz\n",
            "17465344/17464789 [==============================] - 0s 0us/step\n",
            "17473536/17464789 [==============================] - 0s 0us/step\n"
          ]
        }
      ],
      "source": [
        "from tensorflow.keras.datasets import imdb\n",
        "(train_data, train_labels), (test_data, test_labels) = imdb.load_data(\n",
        "    num_words=10000)"
      ]
    },
    {
      "cell_type": "code",
      "execution_count": 9,
      "metadata": {
        "colab": {
          "base_uri": "https://localhost:8080/"
        },
        "id": "NQAY0JqQc-L4",
        "outputId": "94906a51-c121-4ef6-fac5-b4cca2cfd741"
      },
      "outputs": [
        {
          "output_type": "execute_result",
          "data": {
            "text/plain": [
              "218"
            ]
          },
          "metadata": {},
          "execution_count": 9
        }
      ],
      "source": [
        "len(train_data[0])"
      ]
    },
    {
      "cell_type": "code",
      "execution_count": 8,
      "metadata": {
        "colab": {
          "base_uri": "https://localhost:8080/"
        },
        "id": "rOJAc-YGc-L4",
        "outputId": "a748c58c-9737-4b7f-e4d8-50d816029cc1"
      },
      "outputs": [
        {
          "output_type": "execute_result",
          "data": {
            "text/plain": [
              "1"
            ]
          },
          "metadata": {},
          "execution_count": 8
        }
      ],
      "source": [
        "train_labels[10]"
      ]
    },
    {
      "cell_type": "code",
      "execution_count": 5,
      "metadata": {
        "colab": {
          "base_uri": "https://localhost:8080/"
        },
        "id": "KTbK5nDDc-L4",
        "outputId": "f353f1f2-e1d3-4f77-e655-ada9c802b0c2"
      },
      "outputs": [
        {
          "output_type": "execute_result",
          "data": {
            "text/plain": [
              "9999"
            ]
          },
          "metadata": {},
          "execution_count": 5
        }
      ],
      "source": [
        "max([max(sequence) for sequence in train_data])"
      ]
    },
    {
      "cell_type": "markdown",
      "metadata": {
        "id": "R-Bv2MuLc-L5"
      },
      "source": [
        "**Decoding reviews back to text**"
      ]
    },
    {
      "cell_type": "code",
      "execution_count": 6,
      "metadata": {
        "colab": {
          "base_uri": "https://localhost:8080/"
        },
        "id": "-UCWE9Vgc-L5",
        "outputId": "fe9caa7a-931e-49db-d8fa-f8b0a31ac3a7"
      },
      "outputs": [
        {
          "output_type": "stream",
          "name": "stdout",
          "text": [
            "Downloading data from https://storage.googleapis.com/tensorflow/tf-keras-datasets/imdb_word_index.json\n",
            "1646592/1641221 [==============================] - 0s 0us/step\n",
            "1654784/1641221 [==============================] - 0s 0us/step\n"
          ]
        }
      ],
      "source": [
        "word_index = imdb.get_word_index()\n",
        "reverse_word_index = dict(\n",
        "    [(value, key) for (key, value) in word_index.items()])\n",
        "decoded_review = \" \".join(\n",
        "    [reverse_word_index.get(i - 3, \"?\") for i in train_data[10]])"
      ]
    },
    {
      "cell_type": "code",
      "source": [
        "List = []\n",
        "for n in range(100):\n",
        "  decoded_review = \" \".join(\n",
        "    [reverse_word_index.get(i - 3, \"?\")\n",
        "    for i in train_data[n]])\n",
        "  List.append((n,decoded_review))"
      ],
      "metadata": {
        "id": "GGem3rAIJVSZ"
      },
      "execution_count": 13,
      "outputs": []
    },
    {
      "cell_type": "code",
      "source": [
        "List"
      ],
      "metadata": {
        "colab": {
          "base_uri": "https://localhost:8080/"
        },
        "id": "zjh7d06ALnn-",
        "outputId": "673c9799-1cba-45e0-f7d7-db55ce730fce"
      },
      "execution_count": 14,
      "outputs": [
        {
          "output_type": "execute_result",
          "data": {
            "text/plain": [
              "[(0,\n",
              "  \"? this film was just brilliant casting location scenery story direction everyone's really suited the part they played and you could just imagine being there robert ? is an amazing actor and now the same being director ? father came from the same scottish island as myself so i loved the fact there was a real connection with this film the witty remarks throughout the film were great it was just brilliant so much that i bought the film as soon as it was released for ? and would recommend it to everyone to watch and the fly fishing was amazing really cried at the end it was so sad and you know what they say if you cry at a film it must have been good and this definitely was also ? to the two little boy's that played the ? of norman and paul they were just brilliant children are often left out of the ? list i think because the stars that play them all grown up are such a big profile for the whole film but these children are amazing and should be praised for what they have done don't you think the whole story was so lovely because it was true and was someone's life after all that was shared with us all\"),\n",
              " (1,\n",
              "  \"? big hair big boobs bad music and a giant safety pin these are the words to best describe this terrible movie i love cheesy horror movies and i've seen hundreds but this had got to be on of the worst ever made the plot is paper thin and ridiculous the acting is an abomination the script is completely laughable the best is the end showdown with the cop and how he worked out who the killer is it's just so damn terribly written the clothes are sickening and funny in equal ? the hair is big lots of boobs ? men wear those cut ? shirts that show off their ? sickening that men actually wore them and the music is just ? trash that plays over and over again in almost every scene there is trashy music boobs and ? taking away bodies and the gym still doesn't close for ? all joking aside this is a truly bad film whose only charm is to look back on the disaster that was the 80's and have a good old laugh at how bad everything was back then\"),\n",
              " (2,\n",
              "  \"? this has to be one of the worst films of the 1990s when my friends i were watching this film being the target audience it was aimed at we just sat watched the first half an hour with our jaws touching the floor at how bad it really was the rest of the time everyone else in the theatre just started talking to each other leaving or generally crying into their popcorn that they actually paid money they had ? working to watch this feeble excuse for a film it must have looked like a great idea on paper but on film it looks like no one in the film has a clue what is going on crap acting crap costumes i can't get across how ? this is to watch save yourself an hour a bit of your life\"),\n",
              " (3,\n",
              "  \"? the ? ? at storytelling the traditional sort many years after the event i can still see in my ? eye an elderly lady my friend's mother retelling the battle of ? she makes the characters come alive her passion is that of an eye witness one to the events on the ? heath a mile or so from where she lives br br of course it happened many years before she was born but you wouldn't guess from the way she tells it the same story is told in bars the length and ? of scotland as i discussed it with a friend one night in ? a local cut in to give his version the discussion continued to closing time br br stories passed down like this become part of our being who doesn't remember the stories our parents told us when we were children they become our invisible world and as we grow older they maybe still serve as inspiration or as an emotional ? fact and fiction blend with ? role models warning stories ? magic and mystery br br my name is ? like my grandfather and his grandfather before him our protagonist introduces himself to us and also introduces the story that stretches back through generations it produces stories within stories stories that evoke the ? wonder of scotland its rugged mountains ? in ? the stuff of legend yet ? is ? in reality this is what gives it its special charm it has a rough beauty and authenticity ? with some of the finest ? singing you will ever hear br br ? ? visits his grandfather in hospital shortly before his death he burns with frustration part of him ? to be in the twenty first century to hang out in ? but he is raised on the western ? among a ? speaking community br br yet there is a deeper conflict within him he ? to know the truth the truth behind his ? ancient stories where does fiction end and he wants to know the truth behind the death of his parents br br he is pulled to make a last ? journey to the ? of one of ? most ? mountains can the truth be told or is it all in stories br br in this story about stories we ? bloody battles ? lovers the ? of old and the sometimes more ? ? of accepted truth in doing so we each connect with ? as he lives the story of his own life br br ? the ? ? is probably the most honest ? and genuinely beautiful film of scotland ever made like ? i got slightly annoyed with the ? of hanging stories on more stories but also like ? i ? this once i saw the ? picture ' forget the box office ? of braveheart and its like you might even ? the ? famous ? of the wicker man to see a film that is true to scotland this one is probably unique if you maybe ? on it deeply enough you might even re ? the power of storytelling and the age old question of whether there are some truths that cannot be told but only experienced\"),\n",
              " (4,\n",
              "  \"? worst mistake of my life br br i picked this movie up at target for 5 because i figured hey it's sandler i can get some cheap laughs i was wrong completely wrong mid way through the film all three of my friends were asleep and i was still suffering worst plot worst script worst movie i have ever seen i wanted to hit my head up against a wall for an hour then i'd stop and you know why because it felt damn good upon bashing my head in i stuck that damn movie in the ? and watched it burn and that felt better than anything else i've ever done it took american psycho army of darkness and kill bill just to get over that crap i hate you sandler for actually going through with this and ruining a whole day of my life\"),\n",
              " (5,\n",
              "  \"? begins better than it ends funny that the russian submarine crew ? all other actors it's like those scenes where documentary shots br br spoiler part the message ? was contrary to the whole story it just does not ? br br\"),\n",
              " (6,\n",
              "  \"? lavish production values and solid performances in this straightforward adaption of jane ? satirical classic about the marriage game within and between the classes in ? 18th century england northam and paltrow are a ? mixture as friends who must pass through ? and lies to discover that they love each other good humor is a ? virtue which goes a long way towards explaining the ? of the aged source material which has been toned down a bit in its harsh ? i liked the look of the film and how shots were set up and i thought it didn't rely too much on ? of head shots like most other films of the 80s and 90s do very good results\"),\n",
              " (7,\n",
              "  \"? the ? tells the story of the four hamilton siblings teenager francis ? ? twins ? joseph ? ? ? ? the ? david samuel who is now the surrogate parent in charge the ? move house a lot ? is unsure why is unhappy with the way things are the fact that his brother's sister kidnap ? murder people in the basement doesn't help relax or calm ? nerves either francis ? something just isn't right when he eventually finds out the truth things will never be the same again br br co written co produced directed by mitchell ? phil ? as the butcher brothers who's only other film director's credit so far is the april ? day 2008 remake enough said this was one of the ? to die ? at the 2006 after dark ? or whatever it's called in keeping with pretty much all the other's i've seen i thought the ? was complete total utter crap i found the character's really poor very unlikable the slow moving story failed to capture my imagination or sustain my interest over it's 85 a half minute too long ? minute duration the there's the awful twist at the end which had me laughing out loud there's this really big ? build up to what's inside a ? thing in the ? basement it's eventually revealed to be a little boy with a teddy is that really supposed to scare us is that really supposed to shock us is that really something that is supposed to have us talking about it as the end credits roll is a harmless looking young boy the best ? ending that the makers could come up with the boring plot ? along it's never made clear where the ? get all their money from to buy new houses since none of them seem to work except david in a ? i doubt that pays much or why they haven't been caught before now the script tries to mix in every day drama with potent horror it just does a terrible job of combining the two to the extent that neither aspect is memorable or effective a really bad film that i am struggling to say anything good about br br despite being written directed by the extreme sounding butcher brothers there's no gore here there's a bit of blood splatter a few scenes of girls ? up in a basement but nothing you couldn't do at home yourself with a bottle of ? ? a camcorder the film is neither scary since it's got a very middle class suburban setting there's zero atmosphere or mood there's a lesbian suggest incestuous kiss but the ? is low on the exploitation scale there's not much here for the horror crowd br br filmed in ? in california this has that modern low budget look about it it's not badly made but rather forgettable the acting by an unknown to me cast is nothing to write home about i can't say i ever felt anything for anyone br br the ? commits the ? sin of being both dull boring from which it never ? add to that an ultra thin story no gore a rubbish ending character's who you don't give a toss about you have a film that did not impress me at all\"),\n",
              " (8,\n",
              "  \"? just got out and cannot believe what a brilliant documentary this is rarely do you walk out of a movie theater in such awe and ? lately movies have become so over hyped that the thrill of discovering something truly special and unique rarely happens ? ? did this to me when it first came out and this movie is doing to me now i didn't know a thing about this before going into it and what a surprise if you hear the concept you might get the feeling that this is one of those ? movies about an amazing triumph covered with over the top music and trying to have us fully convinced of what a great story it is telling but then not letting us in ? this is not that movie the people tell the story this does such a good job of capturing every moment of their involvement while we enter their world and feel every second with them there is so much beyond the climb that makes everything they go through so much more tense touching the void was also a great doc about mountain climbing and showing the intensity in an engaging way but this film is much more of a human story i just saw it today but i will go and say that this is one of the best documentaries i have ever seen\"),\n",
              " (9,\n",
              "  \"? this movie has many problem associated with it that makes it come off like a low budget class project from someone in film school i have to give it credit on its ? though many times throughout the movie i found myself laughing hysterically it was so bad at times that it was comical which made it a fun watch br br if you're looking for a low grade slasher movie with a twist of psychological horror and a dash of campy ? then pop a bowl of popcorn invite some friends over and have some fun br br i agree with other comments that the sound is very bad dialog is next to impossible to follow much of the time and the soundtrack is kind of just there\"),\n",
              " (10,\n",
              "  \"? french horror cinema has seen something of a revival over the last couple of years with great films such as inside and ? romance ? on to the scene ? ? the revival just slightly but stands head and shoulders over most modern horror titles and is surely one of the best french horror films ever made ? was obviously shot on a low budget but this is made up for in far more ways than one by the originality of the film and this in turn is ? by the excellent writing and acting that ensure the film is a winner the plot focuses on two main ideas prison and black magic the central character is a man named ? sent to prison for fraud he is put in a cell with three others the quietly insane ? body building ? marcus and his retarded boyfriend daisy after a short while in the cell together they stumble upon a hiding place in the wall that contains an old ? after ? part of it they soon realise its magical powers and realise they may be able to use it to break through the prison walls br br black magic is a very interesting topic and i'm actually quite surprised that there aren't more films based on it as there's so much scope for things to do with it it's fair to say that ? makes the best of it's ? as despite it's ? the film never actually feels restrained and manages to flow well throughout director eric ? provides a great atmosphere for the film the fact that most of it takes place inside the central prison cell ? that the film feels very claustrophobic and this immensely benefits the central idea of the prisoners wanting to use magic to break out of the cell it's very easy to get behind them it's often said that the unknown is the thing that really ? people and this film proves that as the director ? that we can never really be sure of exactly what is round the corner and this helps to ensure that ? actually does manage to be quite frightening the film is memorable for a lot of reasons outside the central plot the characters are all very interesting in their own way and the fact that the book itself almost takes on its own character is very well done anyone worried that the film won't deliver by the end won't be disappointed either as the ending both makes sense and manages to be quite horrifying overall ? is a truly great horror film and one of the best of the decade highly recommended viewing\"),\n",
              " (11,\n",
              "  \"? when i rented this movie i had very low expectations but when i saw it i realized that the movie was less a lot less than what i expected the actors were bad the doctor's wife was one of the worst the story was so stupid it could work for a disney movie except for the murders but this one is not a comedy it is a laughable masterpiece of stupidity the title is well chosen except for one thing they could add stupid movie after dead husbands i give it 0 and a half out of 5\"),\n",
              " (12,\n",
              "  \"? i love cheesy horror flicks i don't care if the acting is sub par or whether the monsters look corny i liked this movie except for the ? feeling all the way from the beginning of the film to the very end look i don't need a 10 page ? or a sign with big letters explaining a plot to me but dark floors takes the what is this movie about thing to a whole new annoying level what is this movie about br br this isn't exceptionally scary or thrilling but if you have an hour and a half to kill and or you want to end up feeling frustrated and confused rent this winner\"),\n",
              " (13,\n",
              "  \"? anyone who could find redeeming value in this piece of crap ought to have their head examined we have the ? heroin addicted part time hooker wife with ? all over her body ? received from repeated ? by an abusive son now she is ? breast milk all over the kitchen floor the release so gained somehow akin to helen ? placing her hands in running water we have the husband who starts out by ? a prostitute who just happens to be his daughter she's upset with him because he came too quickly and ends by murdering his female colleague having sex with her corpse and then ? her up we have the kid who is relentlessly ? by his classmates and who comes home and beats his mom you see it's all ? deep huh the only decent moment in this horrendous pile of tripe is when the dad murders his son's ? it's a good thing this turkey was shot on video because otherwise what a waste of expensive film it would be if that guy who thinks artists ought to be interested in this ? is really serious no wonder most people think artists are insane we saw this lousy movie then put on zero woman the accused oh my god it was a ? as to which one was worse what is going on in japan these days sick sick sick\"),\n",
              " (14,\n",
              "  \"? b movie at best sound effects are pretty good lame concept decent execution i suppose it's a rental br br you put some ? oil in your mouth to save you from de poison ? you cut de bite and suck out de ? you gonna be ok tommy br br you stay by the ? when agent harris calls you get me give me a fire ? br br weapons we need weapons where's the ? all we have is this ? br br dr price is the snake expert br br local ? can handle the occasional ? alert every er in the ? city area\"),\n",
              " (15,\n",
              "  \"? a total waste of time just throw in a few explosions non stop fighting exotic cars a deranged millionaire slow motion computer generated car crashes and last but not least a hugh ? like character with wall to wall hot babes and mix in a ? and you will have this sorry excuse for a movie i really got a laugh out of the dr evil like heavily ? compound the plot was somewhere between preposterous and non existent how many ? are willing to make a 25 million dollar bet on a car race answer 4 but didn't they become ? through ? responsibility this was written for ? males it plays like a video game i did enjoy the ? ii landing in the desert though\"),\n",
              " (16,\n",
              "  \"? laputa castle in the sky is the bomb the message is as strong as his newer works and more pure fantastic and flying pirates how could it be any better the art is totally amazing and the soundtrack which is ? many times after this im not sure if this was the first time i heard it and evokes in me the most emotional sentimental response of any movie soundtrack ? the female lead in this movie is totally awesome and the boy ? is also a great role model he lives on his own the plot is classic miyazaki i won't give it away but the end is really great i rank this as one of miyazaki's three best with ? and spirited away also you may want to check out ? moving castle when it comes out sometime next year i hope if you like miyazaki check this one out as it readily available in the usa enjoy ? a\"),\n",
              " (17,\n",
              "  \"? at the height of the ? big ? racism row in 2007 involving ? ? and the late ? ? i condemned on an internet forum those ? b b ' fans who praised the show after years of bashing ? ? sitcoms such as ? ? ? ? ? i thought they were being ? and said so ? ain't half hot ? was then thrown into the argument with some pointing out it had starred an english actor ? up well yes but michael bates had lived in india as a boy and spoke ? ? the show's ? overlook the reality he brought to his performance as ? ? ? the noted indian character actor ? ? said in a 1995 documentary ? ? the ? that he was upset when he heard bates had landed the role but added no indian actor could have played that role as well as bates indeed br br ? was perry and ? companion show to ? ? also set in wartime the ? english town of ? on sea had been replaced by the hot steamy ? of india in particularly a place called ? where an army concert party puts on shows for the troops among them ? ? george ? his first sitcom role since ? in ? camp ? ? ? melvyn hayes ? ? ? ? ? de ? ? graham john ? and ? ? the late christopher mitchell ? over this gang of ? was the ? sergeant major williams the brilliant ? davies who regarded them all as ? his frustration at not being able to lead his men up the jungle to engage the enemy in combat made him bitter and bullying though he was nice to ? whom he thought was his ? son then there was ever so english colonel reynolds donald ? and ? captain ? michael ? ? was like a wise old ? beginning each show by talking to the camera and closing them by ? obscure ? ? he loved being ? so much he came to regard himself as practically british his friends were the tea making ? ? the late ? ? who went on to ? your ? and the rope pulling ? ? ? ? so real indians featured in the show another point its ? ignore ? also provided what was described on the credits as ? ? similar to the ? songs used as incidental music on ? ? each edition closed with him ? ? of hope ? only to be ? by a ? up ' from williams the excellent opening theme was penned by jimmy perry and derek ? br br though never quite ? ? ? in the ? affections ? nevertheless was popular enough to run for a total of eight seasons in 1975 davies and ? topped the ? with a cover version of that old ? ? ? they then recorded an entire album of old ? entitled what else ? ? ' br br the show hit crisis point three years later when bates died of cancer rather than ? the role of ? the writers just let him be quietly forgotten when george ? left the character of ? took his place as ? providing another source of comedy br br the last edition in 1981 saw the soldiers leave india by boat for ? the ? ? watching them go with great sadness as did viewers br br repeats have been few and far between mainly on u k gold all because of its so called ? reputation this is strange for one thing the show was not specifically about racism if a white man ? up is so wrong why does david ? 1984 film 'a passage to ? still get shown on television it featured alec guinness as an indian and won two oscars it was derived from jimmy ? own experiences some characters were based on real people the sergeant major really did refer to his men as ? i take the view that if you are going to put history on television get it right ? the past no matter how ? it might seem to modern audiences is ? ? ? was both funny and truthful and viewers saw this thank heavens for d v d 's i say time to stop this review as williams would say i'll have no ? in this jungle\"),\n",
              " (18,\n",
              "  '? i have only had the luxury of seeing this movie once when i was rather young so much of the movie is ? in trying to remember it however i can say it was not as funny as a movie called killer tomatoes should have been and the most memorable things from this movie are the song and the scene with the elderly couple talking about poor timmy other than that the movie is really just scenes of little tomatoes and big tomatoes rolling around and people acting scared and overacting as people should do in a movie of this type however just having a very silly premise and a catchy theme song do not a good comedy make granted this movie is supposed to be a b movie nothing to be taken seriously however you should still make jokes that are funny and not try to ? a mildly amusing premise into a full ? movie perhaps a short would have been fine as the trailer showing the elderly couple mentioned above and a man desperately trying to gun down a larger ? was actually pretty good the trailer itself looked like a mock trailer but no they indeed made a full movie and a rather weak one at that'),\n",
              " (19,\n",
              "  \"? chances are is a charming romantic fantasy about a woman ? shepherd whose husband christopher ? is killed shortly after learning she is pregnant we then see the husband in heaven letting the powers that be know that he was taken too soon and that his wife needs him he is told he can return to earth but not as himself ? 19 years where we see ? daughter mary stuart masterson preparing to graduate from college and ? a young man robert downey jr who it turns out is the reincarnation of her father the film is a little on the predictable side the story goes all the places you expect it to but it is so ? played by an energetic cast especially shepherd and downey that you can't help but get wrapped up in the fun shepherd has rarely been seen on screen to better advantage and she and downey are backed by a talented group of character actors in supporting roles a lovely and charming fantasy that will ? and ? you\"),\n",
              " (20,\n",
              "  \"? shown in australia as ? this incredibly bad movie is so bad that you become ? and have to watch it to the end just to see if it could get any worse and it does the storyline is so predictable it seems written by a high school ? class the sets are pathetic but ? better than the ? and the acting is wooden br br the ? ? seems to have been stolen from the props ? of ? ? there didn't seem to be a single original idea in the whole movie br br i found this movie to be so bad that i laughed most of the way through br br malcolm mcdowell should hang his head in shame he obviously needed the money\"),\n",
              " (21,\n",
              "  '? despite some occasionally original touches like the virtual sets that provide the background for the victorian interiors featuring ? ? and her circle this film falls short and ultimately disappoints newcomer ? ? seems talented but is wasted as emmy a character who by mid film is reduced to nothing more than staring at a ? watching lady ? ? an autobiography ? ? takes off briefly when lady ? ? ? appears the camera ? on her facial expressions mannerisms even making her appear to be ? or ? invisible ? into scenes to ? ? virtual rendering of her br br a straightforward biopic of ? ? would have been worthwhile but this film unfortunately makes a ? of both lady ? life and that of a modern day computer scientist and her ? drawn ? boyfriend'),\n",
              " (22,\n",
              "  \"? i hate reading reviews that say something like ? waste your time this film stinks on ice ' it does to that reviewer yet for me it may have some sort of ? charm if you like the other ? series films this one will be watchable if you like 40s ? films this one will be watchable br br this film is not as good in my opinion as any of the earlier series entries which starred richard ? as the protagonist it's much slower and the plot is trite you've seen this same narrative device used in many other films and usually better br br but the acting is good and so is the lighting and the dialog it's just lacking in energy and you'll likely figure out exactly what's going on and how it's all going to come out in the end not more than a quarter of the way through br br the ? series is semi noir and there character mood lighting camera movement and angles are more important than the story itself but this film is not noir it's too light weight and hollywood innocent for that neither richard ? character nor those of any of his ladies in the previous films had to come to a good end you just never knew until the end br br but still i'll recommend this one for at least a single viewing i've watched it at least twice myself and got a reasonable amount of enjoyment out of it both times\"),\n",
              " (23,\n",
              "  \"? the problems with ? ? ? e ? are many a one line concept that looks good on paper which also worked in an earlier english film love actually goes terribly wrong thanks to inept and shallow writing a well ? idea gets crushed to ? under the weight of its own ? ambition a director so completely ? by his own much ? first film goes overboard with the devices that worked in his earlier film ? ho ? ho try counting the number of times the device of split screens is used in this flick the problem is what worked ? in ? ho ? ho were the emotional ? of the ? ? school of film making but here ? doesn't quite grace us with its appearance on the screen no not even ? the writer director gives us ? relationships with one common problem ? but where is the intensity where is the depth where is the ? a ? to ? sans emotion and one that goes on and on and on ? it just cannot work br br in my opinion the basic ? for a ? film like this to work is that not only should each individual story be ? it should in some way or the other follow the ? of the traditional three act structure screen writing guru ? ? ? that's the real reason why ? e ? didn't work for me none of the stories had any depth or a roller coaster ride of emotional ups and downs one expects in mainstream hindi cinema also the ? between some of the stories seemed ? and very forced it's not clear what salman khan is doing at ? ? wedding if he was required to be present at the wedding scene for a neat wrap up why not ? a few more ? and bring the other two couples also to the wedding that would be ? br br but yes some of the stories did have a lot of promise for one the anil kapoor ? ? story tries to address a very real situation mid life crisis but its journey is so linear that you're left wondering if it was really an issue similarly the problem of commitment in the ? ? ? ? story is also true to life if only it was developed a little better i felt that the more promising stories in this ? mash were told from the male point of view which is fine but it brings down the emotional ? of these stories because the female characters ? ? and ? ? in particular have all the depth of a half filled bath ? wasn't this film supposed to be about ? different ? now the actors john abraham still needs to learn acting while ? ? is ? and endearing as ever anil kapoor gets a role written just for him but sometimes ? the boredom of his character since she didn't get a ? character to portray ? ? uses her charming smile and natural acting style to cover up for it ? ? is fine despite going a ? over the top in a few scenes ? ? has nothing much to do but she does remind us that she's the same girl who surprised us with her ? performance in ? govinda tries to make up for that huge mistake called ? ? and succeeds to a large extent br br that brings me the most irritating track of the film which ? ends up ? the maximum screen time salman khan and ? ? the track is irritating mainly because of them but i must credit them for their ? they're consistently bad all through the film ? could well be the next queen of ? i don't buy the crap that her role that of an ? ? required her to act over the top somebody should tell her the difference between being flamboyant because the character demands it and downright ? if you've seen ? ? who seems to be the inspiration behind this role in her interviews and ? boss you'll know what i mean i strongly feel that if ? ? had taken ? ? in this role rather than a bigger star like ? the story would have worked better salman ? phony accent is well shannon ? hindi is less ? than ? br br to be fair to the director he does manage to add some good directorial touches to the film i particularly liked the use of grey as the ? color in the anil kapoor ? ? story as a metaphor for their boring existence and the bright colors that come into the story with the arrival of the other woman but will anyone choose to paint their house in varying depressing shades of grey that's acceptable cinematic license i would say but when the film runs almost for 4 hours it almost feels like the director is trying too hard to give the audience a glimpse of his ? in an endlessly meandering montage of uninspiring sequences br br maybe ? ? wants us to sit in the theatre for as long as is ? possible ? ? ? ho ? ho\"),\n",
              " (24,\n",
              "  \"? the original demille movie was made in 1938 with ? march a very good film indeed hollywood's love of remakes brings us a fairly interesting movie starring ? ? he of course was brilliant as he almost always seemed to be in all of his movies charlton heston as andrew jackson was a stroke of genius however the movie did tend to get a little long in places it does not move at the pace of the 1938 version still it is a fun movie that should be seen at least once\"),\n",
              " (25,\n",
              "  '? this is a very light headed comedy about a wonderful family that has a son called pecker because he use to peck at his food pecker loves to take all kinds of pictures of the people in a small ? of ? ? and manages to get the attention of a group of photo art lovers from new york city pecker has a cute sister who goes simply nuts over sugar and is actually an addict taking ? of sugar from a bag there are scenes of men showing off the ? in their ? with ? movements and ? doing pretty much the same it is rather hard to keep your mind out of the ? with this film but who cares it is only a film to give you a few laughs at a simple picture made in 1998'),\n",
              " (26,\n",
              "  \"? the dvd version consists of 2 episodes the ? of ? being the ? in addition the language was spanish without subtitles hence it's hard for me to review in depth this movie because because i didn't understand what was said br br ? being an historic icon the part is very difficult and i found that for a newcomer ? ? just plays fine she is strong ? but also a very supportive tender soul mate ? dalton as ? is perfect and their romance is the main thing of the first episode so it is not really a documentary nor a ? but a great love story br br after the ? a new lover comes marc ? but the flavor is gone we remember always our first love so i found the second episode dull and their tragic fate isn't told ? br br nonetheless the production is ? the sets are big ? ? the ? live location exotic and the ? splendid the producers have a lot of money for sure but they spend nothing on the special effects they are so poor blue screens ships ? that it's funny br br finally i would like very much to hear it in french or english to make a definitive opinion about this two movies\"),\n",
              " (27,\n",
              "  \"? we had to go to an ? so we turned on the ? to record the ending after it was over i looked at my husband and said do you have a clue he ? his head no i said so you made me watch the end of this movie and i have no clue what just happened he didn't make me but you know br br the movie body itself was quite good there was a lot of suspense it kept you wondering then came the ending the ending was well it just ended you weren't let in on what happened or why right up until the credits i kept thinking something would happen to explain it but it never did so i came here expecting someone figured it out and i just wasn't paying attention nope here four years later i'm just as clueless as tom ? was br br i still have no clue what went on i'm just glad i didn't waste any to buy it because i sure would have been mad br br ? i get it the end of the movie is what disappeared ?\"),\n",
              " (28,\n",
              "  \"? bela lugosi appeared in several of these low budget ? for ? studios in the 1940's and the corpse ? is one of the better ones br br bela plays a mad scientist who kidnaps young brides and kills them and then ? fluid from their bodies so he can keep his ? wife looking young after a reporter and a doctor stay the night at his home and discover he is responsible for the ? deaths the following morning they report these murders to the police and the mad scientist is shot and drops dead shortly afterwards br br you have got almost everything in this movie the ? ? consist of an old ? a ? and dwarf her sons a ? and spooky ? in ? house bela and his wife find they sleep better in ? rather than ? in the movie br br the corpse ? is worth a look especially for bela lugosi fans great fun br br rating 3 stars out of 5\"),\n",
              " (29,\n",
              "  \"? i have read the book a couple of times and this movie doesn't follow exactly as it should i could let this slide it is after all a movie however i have serious issues with the setting of the movie nobody has seemed to mention that this movie and the book it is based on are based in actual events that happened in ? i live in ? i grew up in the town that this movie is supposed to be based on first of all the small town that is talked about as the setting is the third largest city in the state with a population of around 50 000 grand island is the largest city between lincoln and denver second the scenery for the movie is wrong grand island is in the ? river valley which is very flat with very few trees i tried watching this movie but it made me mad to see my hometown being treated so bad this was a real event large sections of the city were wiped out in the book they talk about riding ? from mormon island to ? park i guess you could if you don't mind a 15 mile ride each way for anyone who wants to know what really happened go here http www ? com ?\"),\n",
              " (30,\n",
              "  \"? i caught this at a test screening all i can say is what the hell this movie plays out about as smoothly as mickey mouse reading the script for scarface it's bizarre beyond making the slightest bit of sense and even if you do leave your brain in the car the film is still so bizarre that it isn't even funny br br the plot involves crocodile hunter steve irwin trying to save a crocodile which contains a cia ? the cia comes after irwin to get their ? back irwin mistakes them for ? and sets out to stop them br br that's about all the story there is the rest is over the top ? of australian culture ? see ? and ? and strangely choreographed action sequences at one point irwin ? a ? ? and knife fights with a cia agent on top of it yes that's right steve irwin knife fights a guy on top of an ? let that be your guide for this ridiculously bad film\"),\n",
              " (31,\n",
              "  \"? a strong woman oriented subject after long director ? ? ? the power the ? version of the hollywood hit not without my daughter is actress ? first home production a story about a woman's fight against harsh injustice br br the story of the film revolves around ? ? kapoor who lives in canada with her two ? ? ? ? ? there she meets ? ? kapoor falls in love with him and they soon marry their family is complete when ? has a boy ? master ? ? but their happiness is short lived as the news of ? ? mother ? naval makes them leave their perfect life in canada and come to india and that's when the problems start from the moment they reach br br india both are shocked to see the ? and the vast ? of people everywhere they take a crowded train to reach ? village and when they finally reach the station they have to catch a long bus drive to his village the filthy ? bus combined with the uncertain ? makes it a never ending drive and unfortunately for them a ? mob that beat ? out of shape for no fault of his attacks their bus fortunately they get shot dead just in time before they can further harm him after that they drive to the ? ? where ? father ? ? ? lives with his wife ? naval ? realized that her father in law is in command as soon as she enters the place but her only ? is her mother in ? warm welcome br br living there ? learns of her father in laws ? behavior and realizes that ruthless killing is a way of life for him the day she sees her father in law teach her son to throw a bomb she loses it and ? out against him ? to ? that they move back to canada but terror strikes again when ? is murdered one day leaving a broken down ? alone with her son in this strange land where she is ? by a cruel father in law her fight against this man to save her son is what makes up the climax of this emotional heart wrenching film br br what sets apart ? from most films being made off late is also the rural setting of the movie the only ? is ? ? music which fails to rise above the script the only saving grace is the sexy item number ? ? which has been composed by ? ? another pat for the director comes because he has ? some splendid performances from his cast ? kapoor is the life of the film and has given a moving performance as a helpless mother she is sure to win awards for this ? portrayal second is actor ? ? who is back with a bang with this film his ? mannerisms suit him to the ? and he's shown his ? once again with this role ? kapoor is the surprise ? of the film with a sincere and effective portrayal that stands up against both the other actors ? naval too is in top form and her ? climax showdown with ? is ? ? cameo provides the lighter moments and surely he's been pulled in to get the required star value though his role was not really required he's done it well overall ? is a far superior film than most ? out these days and the ? release hype is sure to get it a good opening ? is sure to get the critics and audience ? up so what if the film needs to be desperately ? by at least 2 ? to better the impact ? still has the power to go on without a ?\"),\n",
              " (32,\n",
              "  \"? the first episode immediately gave a good impression what to expect from the series mysteries waiting to be solved and a lot of good drama i love the fact that they gradually reveal the stories concerning the characters explaining just enough to stay excited of course this show has some flaws in the first two series there are some characters who for some reason don't show up in the third season many of the characters have a decent sent off but some of them just aren't there like rose and her husband where the hell are they what happened to them maybe they will return in later episodes but it is a little inconsistent that being said lost manages to be thrilling every episode especially the first two seasons that is a very hard thing to do i do notice that in the third season the focus is more on character development than the mystery aspects of the show this is not a bad thing it even saves some episodes from getting boring one of the elements that can be considered the strength of this show are the wonderful characters you will grow to love these characters good or bad but eventually i will want to see some mysteries to be solved and get closure the danger of lost getting canceled due to ? ratings is near and that would be devastating\"),\n",
              " (33,\n",
              "  \"? i don't know what it is i find so endearing about this film but the first time i saw it i wanted to see how it ended i'm not a big fan of paul ? nor of war dramas but i was truly wondering just how and when ? would find his child all he knows is that the boy has green eyes truth be told i have not seen this movie in years nor has it been shown on tv in a while but this movie is somewhat of one man's odyssey after the pains of war ? shows a very sympathetic and heart warming portrayal of a man lost by his memories there is an underlying message in this movie that he is looking for the last shred of human morality in the aftermath of this war and the reality that he does confront why this movie is not yet on dvd or video is a mystery to me\"),\n",
              " (34,\n",
              "  \"? many have stated that ? \\x96 killer whale is a jaws rip off this is not really true though the enormous commercial success of jaws undoubtedly made these man vs beast stories more attractive ? for film makers in the second half of the '70s ? \\x96 killer whale would be better described as a modern day ? of ? dick it's a story about obsession on one hand a ? obsessive quest to avenge the death of its mate on the other a bounty ? obsessive quest to kill the whale before it can claim any more lives sadly ? killer whale emerges a very disappointing film its ? interesting ideas somewhat ruined by hammy performances and preposterous plotting br br shark hunter nolan richard harris encounters a marine life ? rachel ? charlotte ? diving off the atlantic coast of canada their meeting almost ends in disaster when ? team are attacked by a great white shark but a killer whale arrives in the nick of time to stop the shark after this nolan becomes increasingly obsessed with capturing a killer whale and selling it to an ? but his plans ? when he accidentally kills a pregnant female of the species while the ? male looks on rachel tells nolan that a killer whale is an incredibly intelligent ? with a strong memory and feelings just like a human worse still native ? will ? warns him that the whale will always remember its grief and do everything it can to have revenge nolan initially tries to forget about the whole ? incident but the whale causes havoc in the fishing town and the disgruntled locals begin to demand that nolan puts to sea to track it down and destroy it eventually nolan is forced to pursue the killer ? the hunt leads all the way to the desolate ice ? of the ? ocean where man and beast play out their final fatal battle against each other br br two things stand out in this film one is the haunting score by ? ? perhaps the greatest composer of film music of all time his talents wasted on various ? rate ? during the 70s and 80s the other is the amazing widescreen photography of ted moore which makes the film consistently pleasing to the eye in every other department ? \\x96 killer whale is a shoddy film that does nothing to enhance the reputation of its talented cast and crew harris appears extremely ill throughout the film his hair ? black rings around his eyes and skin ? pale his performance lacks the usual ? ? strikes a lot of sexy poses but fails to convince with her long ? and ill informed explanations about the ways of ? the rest of the actors are wasted in brief and undeveloped roles the most memorable of which sees bo derek getting her leg bitten off by the vengeful whale the plot is total nonsense from start to finish with such preposterous sequences as the whale deliberately starting a fire in the fishing village that ? and destroys the local ? although it's credible to suppose that ? are intelligent creatures with genuine emotions the idea that a whale could plot revenge against a single human ? and carry it out so ? is utterly absurd ? \\x96 killer whale is really one for ? of the man vs beast cycle from the late 70s most will come away from the film shaking their heads in disbelief and ? their teeth with despair\"),\n",
              " (35,\n",
              "  \"? detective tony rome frank sinatra returns to the screen after his self titled debut this time it's a film that's played for ? while on a diving trip rome finds the body of a blonde beauty at the bottom of the sea her feet as you might expect ? in ? rome immediately on the case after being hired by man mountain ? ? rome finds himself immediately at risk as he has to investigate some mafia types who turn the tables on him and he is himself found to be the main suspect he must now go on the run and hope to solve the case alone the ? sinatra tries hard to sell us the lame jokes and make us believe he is a good detective oh and not to mention being sexually attractive to the ? ? welch but he fails miserably in this ham ? vanity project the frankly laughable denouement that ? every female is quite astounding every woman in the film is a ? head who likes ? over is front of the camera director douglas of course ? in ? in on the cracks of their ? each time as they ? their ? ? there's even a ridiculously campy gay character that ? belief this was a film made by real men for real men to ? their own ? sexuality it's a shameful ?\"),\n",
              " (36,\n",
              "  \"? sorry i just didn't find the subject matter as compelling as the filmmaker did the robot guy and the mole rat guy were pretty interesting although morris didn't really tell us much about them the other two subjects were a bore and the supposed connections between them didn't hold up\"),\n",
              " (37,\n",
              "  \"? on 24 october 1955 the hard work ? of the hadley oil company mitch wayne rock hudson meets the executive secretary lucy moore lauren bacall in the office of her boss bill ryan in new york and invites her to go to a ? with the alcoholic playboy and son of a ? kyle hadley robert stack on the way of the meeting he ? that they had traveled from ? to new york to satisfy the wish of the reckless kyle who is his best friend since their childhood of eating a ? from club 21 and the meeting was just a ? to ? father ? hadley robert keith mitch and kyle immediately fall in love for lucy and kyle ? uses his money to impress lucy then he opens his heart and ? lucy they get married and travel to ? and the insecure kyle stops drinking meanwhile ? sister ? dorothy malone is an easy woman and has a non ? crush on mitch that sees her as a sister one year later kyle discovers that he has a problem and might be ? and starts drinking again the jealous ? ? kyle telling that his wife and mitch are having a love affair when lucy finds that she is pregnant kyle believes that the baby belongs to mitch and his ? leads to a tragedy br br written on the wind is an overrated melodramatic soap opera with artificial characters and situations there are at least two great movies with characters with drinking problem the lost weekend 1945 with stunning performance of ray ? and days of wine and ? ? with awesome performance of jack lemmon robert stack has a reasonable performance and his character's motives for drinking are shallow and clichés in the end the forgettable written on the wind is entertaining only and never a feature to be nominated to the oscar my vote is seven br br title brazil ? ? ? words in the wind\"),\n",
              " (38,\n",
              "  \"? as with many other pop culture franchise series this line just didn't know when to quit instead of leaving things as they were perfectly ended they went on to generate this the first installment of this franchise to fall sorely short of the mark br br this movie should never have happened it was not intended for there to have been a fourth movie in this line and it sure shows the premise is idiotic and the portrayals were the same br br after the wonderful experience which was the omen this was a major disappointment which ? of 70's cheese and horrible acting it was reminiscent of the ? horror in those aspects and left a terrible lingering ? long after it was over br br it rates a 1 4 10 from br br the fiend\"),\n",
              " (39,\n",
              "  \"? this so called remake is terrible i went to see this tonight on the first day as the anticipation and hype was too much for me to handle but within the first half an hour we knew that this is a disaster it not only does not match the hype created but also insults the original blockbuster the script had ? the editing was ? quite a few times ? who is an excellent actor did an okay job amitabh was alright the director wanted to portray how evil his character is but he went a bit overboard which resulted in it being ? ajay who is especially smooth in these kind of roles was also a disappointment lets not even get started about the new guy ? one wouldn't be proud to start off a career with something like this ? ? who was thrown in for a few laughs couldn't even get a smile out of anyone because of his ? humor and the shrill voice ? ? proved that she is one of the worst actresses we have today all in all ? who i thought was one of the most talented and gifted directors india has had failed miserably he took up such a huge challenge and responsibility to remake what is known as the best hindi movie ever and made a mess out of it\"),\n",
              " (40,\n",
              "  \"? this was the third muppet movie and the last one jim ? was around to take part in the making of before his ? death in 1990 the first three films starring the famous characters were all made and released into theatres before i was born i originally saw the first and second ? in the original trilogy the muppet movie and the great muppet caper around the mid nineties as a kid but didn't see this third one the muppets take manhattan until april 2007 this was shortly after i had seen its two predecessors and ? muppet treasure island for the first time in many years this third muppet movie definitely didn't disappoint me the first time i saw it and my second viewing nearly three years later may not have impressed me as much but if not it certainly didn't go too far downhill br br the ? stage musical manhattan ? turns out to be a big hit on their college campus they are ? from college so they will soon be leaving but decide they will all stay together and go to manhattan to try and get their show on broadway after their arrival they begin searching for a producer but after many ? they finally decide to part and go find jobs most of them leave town but ? stays and is still determined to find the right producer and reunite the muppet gang he gets a job at a new york restaurant owned by a man named pete the frog quickly befriends ? daughter jenny an aspiring fashion designer who currently works at her father's restaurant as a waitress as ? continues his attempts to reach stardom now with the help of jenny he doesn't know that miss ? has secretly stayed in new york and is now ? on him she begins to see ? and jenny together and to her it looks like they're getting close which leads to jealousy br br when i saw this movie for the second time it looked disappointing at first it seemed a little rushed ? and maybe even forgettable around the beginning there are some funny bits during this part of the film such as animal chasing a woman through the audience on the college campus but for a little while the film seemed bland to me compared to its two predecessors fortunately it wasn't long before that changed the film is entertaining for the most part with saying goodbye the poignant song the muppets sing as they part and a lot that happens after that the two funniest parts might be miss ? ? after she sees ? and jenny ? but there were definitely many other times when i laughed such as poor ? trying to ? with other bears the muppets still have their charm and comical antics which obviously also helps carry the movie for the most part as does the plot a simple but intriguing one for all ages there are some weaker moments such as the muppet babies sequence and ? ? performance as jenny is ? but neither of these problems are too significant and are far from enough to ruin the entire experience br br i would say the muppet movie the film that started the franchise in 1979 is the best of the original trilogy and that seems to be the most popular opinion this third film is probably the weakest of the three but all of them are good unlike muppets from space the third of the theatrical films in the franchise made after ? sad passing at least the muppets take manhattan is still the muppets i won't go into details about what i think of the ? 1999 film released twenty years after their first one since i've already explained in my review of it why i found it so disappointing and even though it does have some appeal i'm clearly not alone however every theatrical movie starring the lovable muppets that was made during ? life is good entertainment for the whole family even if the second and third installment each showed a slight decline in quality after the one that directly ? it\"),\n",
              " (41,\n",
              "  \"? this film was on late at night when i saw it it was interesting at start but it didn't convince me as a whole i am no ? fan in fact i don't like boxing at all it's ? obscene and double faced by society that some get money for beating each other up br br nevertheless i felt the start of the film was ok actors alright especially george c scott as ? ? i don't know how reliable the flick is i haven't read books and books about boxing or ? i don't know anything about the man but it was quite entertaining br br as the movie went on i felt it lost a little of it's charm and i also lost interest i managed to stay awake though but the last hour was just not good enough\"),\n",
              " (42,\n",
              "  \"? warning this review contains spoilers do not read if you don't want some points revealed to you before you watch the film br br with a cast like this you wonder whether or not the actors and actresses knew exactly what they were getting into did they see the script and say hey close encounters of the third kind was such a hit that this one can't fail ' unfortunately it does did they even think to check on the director's ? i mean would you do a movie with the director of a movie called ? ? ' ? clark who would later go on to direct the infamous final justice ' made this it makes you wonder how the people of mystery science theater 3000 could hammer final ? and completely miss out on the return ' br br the film is set in a small town in new mexico a little boy and girl are in the street ? one night when a powerful ? ? er a spaceship appears and ? over them in probably the worst special effect sequence of the film the ship ? some kind of red ? on them it looked like clark had held a ? of water in from of the camera lens and ? his ? pen in it so right away you are treated with cheese anyhow the ship leaves and the adults don't believe the children elsewhere we see vincent ? whom i find to be a terrific actor watch his scenes in ? for proof as they are outstanding who is playing a ? or as i called him the ? ? he steps out of the cave he is in and he and his dog are ? by the ship twenty five years go by and the girl has grown up to be ? shepherd who works with her father raymond ? in studying unusual weather ? or something like that shepherd spots some strange ? in satellite pictures over that little new mexico town and she travels there to research it once she gets there the local ? ? her and blame her for the recent slew of cattle ? that have been going on and deputy jan michael vincent comes to her rescue from this point on the film really drags as the two quickly fall for each other especially after vincent ? off the locals and informs shepherd that he was the little boy that saw the ship with her twenty five years earlier while this boring mess is happening vincent ? with his killer dog at his side is walking around killing the cattle and any people he runs into with an unusual item you know those glowing plastic sticks stores sell for trick or ? at halloween the kind that you shake to make them glow ? uses what looks like one of those glow sticks to burn ? in people it's the second worst effect in the movie every time ? is on screen with the glow stick the ? atmosphere suddenly turns dark like the filmmakers thought the glow stick needed that ? it ends up making the movie look even cheaper than it is br br and what does all this lead up to it's hard to tell when the final confusing scene arrives see ? and his team of scientists try to explain the satellite images that shepherd found as some kind of calling card ' but none of it makes sense why do shepherd and vincent age and ? does not ? explains why he is killing cattle and people and why he wants shepherd dead but even that doesn't make much sense when you really think about it i mean why doesn't he kill jan michael vincent after all he had twenty five years to do it and the aliens won't need him if shepherd is dead anyhow so why try to kill her speaking of the aliens it is never clear what they really wanted out of shepherd and vincent what is their goal why do they wait so long to ? how could they be so sure shepherd would come back not that the answer to any of these and other questions would have made the ? any more pleasant you would still have bad lines really bad acting particularly by shepherd cheesy effects and poor direction luckily the stars escaped from this movie ? shepherd soon went on to star in ? with bruce willis jan michael vincent went on to be featured in dozens of b movies often in over the top parts raymond ? made a pile of perry mason television movies right up until his death vincent ? went on to be a great character actor in a huge number of films martin ? who played a ? law ? officer quickly made the terrific alone in the ? and the awful the ? before rolling into the films he has been famous for recently you can bet none of these stars ever want their careers to return to the return ' ? score 2 out of 10\"),\n",
              " (43,\n",
              "  '? the script for this tv soap opera is so bad that even a hopkins at some point had to play like an ? drama student so as to bring some life in his script dead character i do not know whether this was the purpose of the director but ? ? ? nothing but vanity fear and lack of self ? the real ? possibly was all that but then why make a movie about him ? was a bit more convincing and his long way down was as if closer to the truth ? ? was plain ridiculous not because of sarandon but because of the ? script while she had to be the central character of this alleged ? drama watch it only if you enjoy ? soap opera'),\n",
              " (44,\n",
              "  \"? hamlet is by far my favorite of all of shakespeare's works ? is one heck of an actor his portrayal of this was just amazing his ? were breathtaking for as long as it was it is rare for a film to hold my interest however i was ? in this particular piece i recommend this to anyone both fan of shakespeare and those not so much this has everything the modern world looks for in its films murder betrayal and ? not to knock mel ? version but ? touches the whole work this leaves no stone ? when you finish the film it will feel as if you read the play yourself um how you say two thumbs up\"),\n",
              " (45,\n",
              "  \"? in this swimming pool this pond there are water ? and there are ? ? sit on water ? the frog and water lily have a ? relationship marie pauline ? is a water lily a ? swimming ? with a crush on ? adele ? a frog the captain of her team ? ? ? their leader because the ? ? and well ? blonde conveys a loose persona that betrays the ? ? mindset of ? and discipline but ? has a secret the ? has a ? which ? des ? reveals to the audience visually before she ? in marie br br ? has never gone as they say all the way with a boy br br at a party we see a double image of the ? sex bomb checking her make up in a bathroom mirror ? is a ? morgana marie gets to know ? double while her imitation breaks the water ? heart while the frog goes through the motions of catching flies for ? sake she gets ? with the water lily when no one's looking in the film's most startling scene the water lily agrees to give the frog a hand in losing her virginity through the mechanical act of ? ? ? wants boys to like her but she doesn't like boys seemingly but it's more important to the frog that she's popular when the water lily finally kisses the frog the frog remains a frog the frog can't ? into a water lily or a princess because the water lily lost the ? respect after their lips ? ? tells marie see it's easy which is the ? way of ? their kiss with the ? that her friend gave her as nothing more than a ? of passage without any strings attached ? beauty is a burden she carries the weight of meeting boy's expectations ? uses marie to have one final ? before her ? morgana ? its imitation into the closet br br the other water lily the other frog ? best friend anne louise ? and ? frustrated boy toy ? warren ? just like any water lily and frog have a ? relationship too while ? uses marie for love ? uses anne for sex but that's life that's the ? of growing up in which even a friend will turn on a good friend if the opportunity to move up the food chain presents itself at a ? the water lily ? the other water lily after bathing ? in the ? ? physical beauty is a ? marie gets to call the shots because anne although far from being ugly is overweight and has an ? ? anne tries to fight back by using her breasts as ample ? the ? glass from her happy meal incidentally comments on ? flat chest but the ? marie thinks she's better than anne better than a water lily points out that her breasts are a ? of fat br br ? girls can be brutal to each other br br later in the final shot ? des ? suggests that marie has a double too and this ? among water ? has the potential to turn ? in the near future if it not already has ? girls can be brutal to each other in a way that no boy could match\"),\n",
              " (46,\n",
              "  '? police story is arguably one of the best works by the master of action himself compared to other action films police story makes ? and stallone look like ? the stunt scenes are well ? and the action scenes are superb if new line cinema has any sense they would release this in theaters'),\n",
              " (47,\n",
              "  \"? sorry but i will spoil both the plot line and the ending for you in hopes of avoiding a holiday fiasco like the one that i now face the father dies and the mother asks santa in a letter to bring him back to the family for christmas and santa does dad is ? happy healthy and totally unaware of the fact that he had died all ends ? sweet br br but as a parent who recently watched my five year old lose his best ? friend it was a horror flick now my son is convinced that all he has to do to bring his buddy back is to ask santa do not ? the ? of a young heart no amount of ? will convince him that it was only a movie and that his dog is not coming back for christmas it has been heart breaking to watch his joy only to know that christmas eve he will have to face his loss ? br br shame on you on behalf of all the ? that have lost a loved one recently it is hard enough to deal with the loss one time for a child but there are some wishes that we shouldn't even portray as a possibility\"),\n",
              " (48,\n",
              "  \"? when philo vance edmund lowe is standing ? on the edge of a balcony high above the city apparently ? and just about to step to his death it immediately reminded me of a nearly identical scene in another film made nine years later the woman in green in which sherlock holmes basil ? is similarly about to ? himself into space while being ? br br happily both philo vance and sherlock holmes survive these attempts at murder by ? criminals exciting cinematic suspense in both these scenes when will they learn you can't cloud the minds of great fictional detectives\"),\n",
              " (49,\n",
              "  \"? i am rarely moved to make these kind of comments but after sitting through most of ? dreadful movie i feel like i have really earned the right to say what i feel about it i couldn't actually make it right to the end and became one of the half dozen or more walk outs about 1 3rd of the audience after the ? plot ? dialogue and insulting characterisation became just too much to bear this film is all pose and no art all style and no substance it is ? down by dreadful acting a genuinely dire script indifferent cinematography and student level production values how it got ? started and finished is a mystery to me i bet you a million ? it never goes on general release the proper critics would tear it apart a really bad film shockingly bad a really really really poor effort and that is without even mentioning the gratuitous new born ? gets dropped into a deep fat ? moment totally meaningless utterly lightweight poorly put together this movie is a dreadful embarrassment for uk cinema\"),\n",
              " (50,\n",
              "  \"? i actually saw this movie at a theater as soon as i handed the ? my money she said two words i had never heard at a theater before or since no ? as soon as i heard those words i should have just ? bye bye to my cash and gone home but no ? i went in and watched the movie this movie didn't make anyone in the theater laugh not even once not even ? mostly we sat there in stunned silence every ten minutes or so someone would yell this movie sucks the audience would applaud ? then sit there in stunned bored silence for another ten minutes\"),\n",
              " (51,\n",
              "  \"? before i watched this film i read a review here stating that this film could possibly be one of the best films ever ha ha scene by scene the tension grows alright from the annoying characters in this movie from the little girl talking ? and trying to ? the little boy to the killer just running about without any notice and who was the guy at the beach talking to the little boy things just seem to happen and then go unanswered in this film as i watched it seemed like the film was going in one direction then just doesn't go anywhere but into a new direction and on and on br br the acting is great but the writing is horrible each character in each scene says or does something so unbelievable unrealistic and the reactions of the fellow cast extras are simply strange there are no ? to the problems developed throughout the film making it confusing and ultimately a big waste of time\"),\n",
              " (52,\n",
              "  \"? this low grade universal ? has just been announced as an upcoming dvd release but intended as part of a collection of similar movies that i already had in my possession i decided to ? it from other channels rather than wait for that legitimate release which is just as well since the end result was not anything particularly special if ? atmospheric at that for starters the plot is pretty weak \\x96 even though in a way it ? the vincent price vehicle theatre of blood 1973 ? without any of that film's campy gusto what we have here in fact is a ? ? martin ? \\x96 whom we even see sharing his ? plate of cheese with his pet cat \\x96 who upon finding himself on the receiving end of art critic alan ? ? pen one time too many decides to end it all by ? himself into the nearby river however while ? just that action he is anticipated by ? ? escaped killer dubbed the ? and naturally enough saves the poor guy's life with the intention of having the latter do all the dirty work for him in ? although it is supposedly set in the art circles of new york all we really see at work is ? and commercial painter robert ? who keeps painting the same ? blonde girl joan ? over and over in banal poses \\x96 how is that for art who conveniently enough is engaged to a rival art critic virginia grey of ? before long the latter is discovered with his spine broken and ? is suspected but then investigating detective bill ? gets the bright idea of engaging another critic to ? a ? review of ? work i did not know that publicity sketches got reviewed so as to ? how violent his reaction is going to be in the meantime ? ? himself into thinking that he is creating his masterpiece by ? ? uniquely ? \\x96 and recognizable \\x96 ? which needless to say ? the attention of the constantly visiting grey we are led to believe that she lacks material for her weekly ? ? to the ? of both artist and model ? although the ? is fully aware of how grey looks thanks to her aforementioned haunting of ? flea bitten pad he ? off ? \\x96 who had by then become ? girl \\x96 in ? apartment and ? ? talking to you guessed it grey about his intention to dump him as the fall guy for the police sends the slow witted giant off his deep ? down to destroying his own now completed ? image curiously enough although this was ? ? film his name in the credits is ? by the ? introducing\"),\n",
              " (53,\n",
              "  \"? hey look deal with it there are much better portrayals of the ? of black america than this although i think this story is weak my criticism is focused on the poor execution of the story which i have mentioned blows br br this was made in the mid 80's and is horrible in the music score department it's funny to see oprah as a latter day crack whore type br br the scene where bigger ? elizabeth ? into the ? pure classic cinema first off i don't care how drunk you are you will react to ? degree flame no matter how bad your acting but they really ? that scene it was comical i'll tell you what though i had great satisfaction in seeing elizabeth ? burn in a faux death she ? me\"),\n",
              " (54,\n",
              "  \"? any movie in which brooke ? out acts a fonda is going to be both an ? and a horror ? actually is only bad because she's youthful inexperienced and clearly not well directed by her co star peter fonda is bad because well because he's bad i liked him in ? gold years later but lord above he's awful here not that anyone else is good there's not a single performance outside henry ? delightful cameo that is even passable i've never seen a movie with this many bad performances in the case of luke ? the chief villain it's clear this is because of poor dialogue and direction as he's done good work in the past but his partner played by ted ? is an embarrassing ham the writing is just bloody awful and the actors cannot be ? for the terrible things they have to say but they say them so badly the editing and direction are worse than pedestrian shots are held way too long for no dramatic reason or cut off before the impact of the scene can be realized this picture was far worse than i'd imagined and would have been utterly forgotten and probably never even made without the participation of a couple of famous names one bright spot the cinematography in the grand canyon is exquisite capturing the beauty of that area in a way even big screen ? productions have not quite done so well and finally either this is a bad version of paper moon with a lovable pair of father daughter types or it's a bad version of pretty baby with a considerably more ? romantic relationship between a forty something and a 13 year old it suggests more of the latter than the former and thus is pretty disturbing\"),\n",
              " (55,\n",
              "  \"? kubrick meets king it sounded so promising back in the spring of 1980 i remember then the movie came out and the kubrick ? have been ? with the king ? ever since br br the king ? say stanley kubrick took a great horror tale and ruined it the kubrick ? don't give a damn about king's story they talk about ? tracking shots camera angles this is a film they insist it should be considered on its own as it happens both camps are correct unfortunately br br if one views it purely as an adaptation of king's novel the shining is indeed a failure a wasted opportunity a series of ? narrative ? br br i used to blame that on kubrick's screenwriter the writer diane johnson author of le marriage ? le divorce etc has a reputation as an novelist of social manners maybe she was chosen for her subtle grasp of ? relations or family dynamics but the little blue collar town of ? ? doesn't exist on any map in her ? universe br br kubrick the ? probably found her ? however he of course is the real auteur and considered on its own merits his screenplay for the shining with its ? of ? psychology ? ? and implied reincarnation just doesn't stand up to logical analysis br br i'm willing to consider kubrick's shining on its own terms i'm even willing to take it as something other than a conventional horror genre movie but it doesn't succeed as a ? study of isolation alienation and madness either ? either way the film pretty much falls apart br br are the horrors of the overlook hotel real or do they exist only in the mind first as ? nightmares suffered by little danny ? then as the hallucinations of his father one notes how whenever jack ? is seen talking to a ghost he is in fact looking into a mirror one notes how the ? frozen ? ? ? appears to ? jack's ? convoluted psyche very deep stuff br br but if indeed the ? ghosts are purely ? of jack ? growing insanity then who exactly lets the trapped jack out of the hotel ? dead ? walk in closet so that he can go on his climactic ? wielding rampage br br and can anyone explain with a straight face that black and white photograph ? ? ? of nicholson as a ? party goer that pops up out of left field and onto a hotel ballroom wall during the film's closing seconds are we to seriously conclude that jack ? bad ? ? from a some sort of past life experience and if you swallow that since when are ? people supposed to be exact physical ? their past ? br br maybe kubrick didn't care about his storyline maybe only wanted to evoke a mood of horror whatever the case the film tries to ? its narrative ? to have it both ways rational and supernatural as a result the story is a mess this movie hasn't improved with age and it certainly doesn't improve with repeated viewings br br i don't deny that a few moments of fear ? and general creepiness are scattered throughout this long long film but those ? ? ? blood seen repeatedly in little ? visions are absurd and laughable and jack ? infamous tag lines wendy i'm home and ? johnny merely ? the movie's dramatic tension and ? its narrative energy i know i sat in the theater and heard the audience laugh in comic relief ? glad we don't have to take this stuff seriously finally kubrick is completely at sea or else utterly cynical during those scenes in which wendy wanders around the empty hotel while her husband tries to ? their son a ? full of ? guests all sitting there dead in their party hats ? now i really am afraid br br given jack ? brilliance over the years one can only assume that he gave just the sort of ? rolling ? ? scenery ? performance that the director wanted the performance of shelley duvall as a sort of female version of don ? in the ghost and mr chicken is best passed over in silence br br this movie simply doesn't succeed not as an adaptation not on its own terms it probably merits a 3 out of 10 but i'm giving it a 1 because it has been so ? over rated in this forum\"),\n",
              " (56,\n",
              "  \"? wow i can't believe i'm the first and only one to post a comment on this great movie br br although the movie itself seemed interesting enough the real thing that attracted me to this one is matt ? granted most people probably either think he's too ? happy or just plain sucks but we're both the same age and from the same generation and i've watched this guy so many times that he's one of my favorites now this is one of the few movies where he is the big shot and main star kind of like in ? punk another great ? film br br ? this is ? your usual heist movies but with more twists than anything which start to amount to ? also very notable in this movie is another great actor named vincent ? a very under appreciated person in the film industry the woman in the movie is a newcomer and she isn't too bad although you know they hired her mainly for her accent and the nude scene br br it's a game of jack vs jill vs bob as each want to ? the ? but share with no one they all try to get ? to kill off the other and it's a ? waiting to explode matt shows his true ? as the scheming jack who initially starts the whole scheme vincent and woman play a couple of art thieves who are in need of money due to a lack of business ? character is a bit deranged and ? throughout the movie but that only add to the intensity of the film br br the surprises left and right are well welcomed and the ending is very non cliche and makes you feel happy well maybe that depends on the type of endings you like this movie kept me very interested besides the fact matt was in it it's a great movie and i'd highly recommend it to anyone who likes movies ? probably won't like this movie but they don't watch movies cause they like movies anyway\"),\n",
              " (57,\n",
              "  \"? i admit i had to fast forward through this poorly transferred dvd after about 30 minutes nothing was happening and everyone has already described the plot but has anyone mentioned the opening scene a butcher knife is stabbed through a wig and it's ? on the grass in the front yard i'm guessing the ? kid did it put it's never explained really ? opening br br i wish this had been a better written or thought out film because what we're left with if pretty ? and a movie that makes no sense isn't a clever movie it's just a poorly executed film br br i would like to see a ? up version and if there was any missing footage i would like to see if it would help otherwise this is an odd little film that is best if fast ? through\"),\n",
              " (58,\n",
              "  \"? i watched the movie in a preview and i really loved it the cast is excellent and the plot is sometimes absolutely hilarious another highlight of the movie is definitely the music which hopefully will be released soon i recommend it to everyone who likes the british humour and especially to all musicians go and see it's great\"),\n",
              " (59,\n",
              "  '? without question this film has to be one of the greatest in cinematic history i have it watched too many times to remember and each time it is like i am seeing the film for the first time br br where does one begin br br ? ? central performance is undoubtedly one of the finest of her career followed closely by ? ? ? ? and ? ? ? each movement and nuance of her performance makes any other bollywood heroine pale into significance her ? interpretation of ? coupled with her grace tragic vulnerability and poetic delivery of ? is like nothing ever seen on the bollywood screen br br ? is perhaps the most ? interpretation of the human condition the photography ? cinematography and ? en scene are so charged with symbolism and meaning that the viewer is left breathless br br ? music is ? his knowledge of the music of the ? ? is incredible and the way in which he ? the narrative with dark atmospheric ? and overwhelming romantic ? is indeed remarkable br br my only advice to anyone who seriously enjoys the spectacle of total cinema should watch this epic ? on life and art'),\n",
              " (60,\n",
              "  \"? i saw this at the ? film festival it was awful every clichéd violent rich boy fantasy was on display you just knew how it was going to end especially with all the shots of the ? wife and the rape of the first girl br br the worst part was the q a with the director writer and writer producer they tried to come across as ? but you could tell they're the types that get off on violence i bet anything they frequent ? and do drugs br br don't waste your time i had to keep my boyfriend from walking out of it\"),\n",
              " (61,\n",
              "  \"? please don't rent or even think about buying this movie they don't even have it available at the red box to rent which would cost a 1 i think its worth less than that the main reason why i rented this d movie was because jenna jameson is in the movie lol between 2 5 min i will give credit that the movie had hot chicks and quite a bit of nudity but other than that you might as well buy another d horror movie that has the same thing with nobody you know ginger ? has more acting time in this movie than jenna she's not even on the front cover of the movie nor her name i recommend people to watch zombie ? because you see jenna almost throughout the whole movie nude most of the time this movie is a big disappointment such a huge waste of time\"),\n",
              " (62,\n",
              "  \"? i found this movie to be a great idea that didn't deliver it seems they found a way to build suspense but couldn't stage their ? very well in one case the police are on the clock to find the ? of the ? they ? go from dentist to dentist to match a dental record at the same time the kidnapped man mason escapes through the elevator ? after all the build up the police arrive at the same time he gets free which is very anti climatic to say the least there are also large narration scenes that take us inside the thinking of the ? husband and wife which ? from the suspense rather than adds to it we are fully aware of their tension and the voice over is an insult and ? the viewer of any chance of a personal experience with the fear as hitchcock proved time and again is far more effective the greatest disappointment is to sit through the whole movie and the get the quick rather bland ending i mean it just ends in a ?\"),\n",
              " (63,\n",
              "  \"? the sea is watching was an interesting film experience first of all the overall feel was intense ? claustrophobic and small each frame seemed to be a photograph of something inside something very focused and not part of a bigger picture it was obvious what we were to look at in each frame the ? of the set itself contributed to that feeling of ? and intensity the lights along the middle of the road cut the road in half and the tiny gate to the tiny ? followed by the tiny and few ? that served as the ? that made up what seemed to be the entire town even the view of the ocean was framed by a tiny landing on which one can count the number of longer grass ? in the wind no ? views in fact it reminded me of the ? sequence of ? ? where the camera ? focuses in to the ? creating again a feeling of a small area where everything is happening br br while the acting was passable considering i really could not ? how the lines were truly delivered i felt that the actions were overly melodramatic and nonsensical why ? would continue carrying on the way she did when ? announced his impending marriage really didn't seem true \\x96 people hadn't really changed that much and the character ? was so strong and ? that even if they were busy taking on o ? business for ? the reaction seemed out of character and unnecessary and distracting another example of odd acting was when the drunk boyfriend of ? showed up and ? decided to ? and was pushed down the stairs the way in which he got up and ? came up the stairs and the ensuing fight outside among the ? was simply unsatisfying it wasn't that i like fight scenes \\x96 ? ? \\x96 but it seemed a little stilted and again overly dramatic br br otherwise while not a beautiful movie to watch it provided an interesting glimpse into the darker side of prostitution as opposed to the geisha unfortunately perhaps it fed into our expectations of ? women the honey \\x96 i'll give you a deal comments supported by the over stretched actions and seriously caused me to doubt whether indeed 19th century prostitutes really acted in that way but once inside the house the inner ? became most interesting vivid and real and provided a scenario i never anticipated or imagined in my romantic view of japan in the 19th century\"),\n",
              " (64,\n",
              "  \"? i'm probably one of the biggest nancy drew fans out there i've read every book three times over and i've played a lot of the nancy drew games i loved this movie it kept you entertained the whole time you watched it i went with about 10 of my friends and everyone loved it there were three woman sitting behind us who appeared to be in their late 30's to early 40's and i asked them how they liked it they said they loved it so you see it will be an entertainment to all ages you just have to give it a chance and it teaches a lesson too just be yourself even if everyone around you is exactly alike so overall this move was great i'm going to see it a second time now so stop bashing it please its a really good movie\"),\n",
              " (65,\n",
              "  \"? dressed to kill understandably made a bit of a ? when first released in 1980 you had police girl in a role that was mega erotic as angie ? played a sexually frustrated housewife looking for good times in all the wrong ? and there into apartment ? plus nancy allen as a call girl michael caine as norman ? sophisticated new york cousin and enough lurid imagery to last two movies of the period today it's slightly less ? by standards and such though the ? version has some of the most hot content of any of de palma's films at least in his quasi auteur period of the 70s and early 80s where he seemed to repeat themes over and over ideas taken right off the film ? of hitchcock classics and given a ? ? it's a simple tale that one partly already saw in sisters and then again to an extent in body double and also in blow out ? allen plays call girl liz blake who has to clear her name of suspicion of killing kate dickinson in full blown ? mode after being found with a razor the murder weapon from dr ? office michael caine stone cold performance most of the way br br from the start which de palma seems to do as a way of setting up a dangerous sexual fantasy scene as a way of ? the opening scene of carrie which perhaps he does just in editing terms we get a series of technical knock out turns through the point of view of style itself the tracking shots in the museum meant to stir up more of a fascination with the process itself of following and wanting to be followed than any kind of tension the chase through the subway a ? to carlito's way is done with a precise level of suspense meanwhile with a slightly exploitation bit thrown in with the black gang the character of peter ? son keith gordon who plays what is essentially a younger version of the real life de palma as a kid science geek obsessed with hitchcock and ? and it's all entertaining and ? as hell as something that comes close to a real ? of what makes de palma's thrillers so unique while being so self ? ? by a ? attitude of film making br br on the other hand that same self consciousness ended up coming back to bite the director in the butt a few times in recent years and somehow in dressed to kill it starts to become very ? and disappointing as the story has to wrap itself up as the psycho themes come together even more apparently man who wants a sex change doesn't even think he's killing as it is she who is doing it there is an ? scene in the police station that makes the aforementioned ? film look like an astonishing psychological revelation and the final scenes at ? house also calling painfully into ? a much more accomplished sequence in carrie are meant for a manipulation that even for de palma is asking for it the final shot especially albeit a ? class in how to copy yourself yet there is a very deranged and within itself perfect scene at the mental hospital amid this confused denouement where the doctor does some work on a nurse to which all the other inmates act like animals in a ? and an over head shot going up and up over the scene is one of the best shots of sexual general ? ever captured on film br br a shame then that the film ends on such a strange and unsettling manner where up until then it is a remarkable piece of pulp cinema where class is all around in the technical aspects soft lighting intricate camera movements seemingly so simple amid subject matter that should be found in the mix of ? for 25 cents it's no masterpiece but i'd certainly take it over most of the director's recent thrillers any day\"),\n",
              " (66,\n",
              "  \"? spoilers in first paragraph this movie's anti german sentiment seems painfully dated now but it's a brilliant example of great war time propaganda it was made back when cecil b demille was still a great director ignore all his later best picture academy awards he never made a very good sound film this movie lacks the comedy of most of ? other films and really it was ? movie not ? the ? of the germans can be compared to the way the ? of 2000 did the same to the british the only good german in the film was a reluctant villain who had the ironic name of ? they even had pickford take an ill ? trip on a luxury ship that gets ? by a german submarine so ? get the americans more ? up to war the sinking of the ? or watching america's favorite canadian ? sinking in it all throughout the film demille runs his protagonist from one kind of horrible ? to another barely escaping death ? ? rape execution and explosions that go off in just the right place to keep her ? the way she is saved from a firing squad is no more believable than the way the humans in jurassic park were ultimately rescued from the ? if i was any more ? to such propaganda i would ? myself for having a part german ? br br was it a good film aside from a humorous running gag about americans abroad thinking they're ? \\x96 that was apparently a joke even back then \\x96 you might not be entertained you'll find it more than a little melodramatic and obviously one sided but the first thing that came to my mind after watching it is that it was years before ? false portrayal of a massacre ? the language of cinema as well as a movie's potential for propaganda it made me wonder what became of cecil b demille somewhere between the ? of sound and the greatest show on earth he seemed to lose his ambition ben ? looked expensive but not ambitious in a sentence this movie is for 1 film historians 2 silent film buffs 3 mary pickford fans or 4 demille fans if such a person exists\"),\n",
              " (67,\n",
              "  '? ? clutter wife bonnie and their teenage children ? and nancy were much liked and respected in their tiny town of ? kansas but in the early hours of 14 november 1959 all four were brutally murdered rather unexpectedly the crime made an impression on author truman capote who rushed to the scene and followed the course of the case to its conclusion the result was the book in cold blood controversial shocking and exceptionally well written it became an international best ? and it remains a ? for crime writers to this day br br the 1967 film version of ? work is almost as remarkable as the book itself filmed in black and white in many of the real life locations it has a slightly documentary quality icy and detached and the overall cast is exceptional this is the film on which robert ? reputation as an actor rests and deservedly so as killer perry smith blake traps you between a profound ? and the shock of unexpected sympathy it is a masterful performance from start to finish as richard ? scott wilson is no less fine br br like ? book the film opens with smith and ? as they travel to kansas and brings them to the clutter home only to suddenly flash past the crime to detail the investigation that finally resulted in their arrest and conviction the ? of the film has always been the moment at which we at last see what occurred in the clutter home actually filmed in the clutter house itself it is a ? sequence horrific and deeply disturbing br br director and writer richard brooks ? the film with a very powerful sense of ? ? only in the sense that he allows the film to become slightly preachy given the overall power of the film however this becomes a trivial annoyance strong stuff and recommended br br ? amazon reviewer'),\n",
              " (68,\n",
              "  \"? i wasn't expecting much and to be honest i didn't like this film the first time around but watching it again and i realised that it's kinda cool sure it's a one joke film but it's a funny gag br br someone posted that it could be better written and it could be i think this film had the potential to be a over the top my cousin ? but with a horror host instead of a lawyer sadly it's a wasted opportunity with just a bit more writing it could be a classic the kids are underused there's no reason why they should ? on to elvira apart from the obvious reasons it would have been great to see their relationship ? i know it's a comedy but it's little differences that separate the good films from the brilliant br br elvira herself is always fun and engaging not to mention ? every time she smiles you will too it's hard to knock a film when the main character is so charming and it really is her charm don't let her looks fool you into thinking that she's some sort of ? well she is but she's a nice one the sort of person you'd let look after your kids wouldn't let her cook for them though br br i'd recommend giving it a go br br just don't expect too much br br she's more than just a great set of boobs she's also an incredible pair of legs\"),\n",
              " (69,\n",
              "  \"? if you're a fan of film noir and think they don't make 'em like they used to here is your answer they just don't make 'em in hollywood anymore we must turn to the french to remember how satisfying subtle and terrific a well made film from that genre can be read my lips is a wonderfully nasty little gift to the faithful from director jacques ? featuring sharp storytelling and fine performances from ? ? and vincent ? br br the basic plot could have been written in the 40's dumb but appealing ex con and a smart but ? femme fatale who turns out to be ? ambitious discover each other while living lives of bleak desperation and longing manipulate each other to meet their own ends develop complex love hate relationship cook up criminal scheme involving heist double crosses close calls and lots of money all action takes place in depressing seedy and or poorly lit locations br br ? has fashioned some modern twists of course the femme fatale is an ? office worker who happens to be nearly deaf and uses her lip reading ability to take revenge on those who ? her and where you might expect steamy love scenes you discover that both characters are sexually awkward and immature add in a bit of modern technology and music and it seems like a contemporary film but make no mistake this is old school film noir it's as good as any film from the genre and easily one of the best films i've seen all year\"),\n",
              " (70,\n",
              "  \"? a stunning realization occurs when some sort of phenomenon takes place be it ? going off witnessing a robbery a ? ? devastating everything in it's path or for that matter any other spectacular ? in the case of the ? family however ? was something which was no more complex than their day to day lives montana in the early ? century was an environment which was rough and ? the ? family was comprised of four people the father a minister who was ? driven to raise his family properly his wife was god ? and ? the two boys were well boys what else can you say brad pitt starred in this film before he was really the brad pitt and his acting performance in this film was to say the least remarkable his brother norman was the cerebral type he was touched by emotions that were genuine and motivated by a set of values that ? montana ? with paul brad pitt was a ? from the ? and lived on the edge you would think that montana in the ? had no such thing yet somehow gambling drinking and violent ? were as much a part of paul as was his fly fishing rod fly fishing did i say that ? this was the core of this movie's theme the recreation of fly fishing served as the cohesive bond which ? the ? spirits of the ? brothers and to a lesser degree the father i would describe the acting in this film as incredibly believable and the cinematography went beyond sensational put it this way anyone who sees this film will want to live in montana breathtaking filmography of ? than blue mountains and ? captured the youth and ? that the ? brothers had for life seldom in a film do you witness ? feelings immediately ? a ? ? to accomplish whatever it may be that someone wishes to accomplish the ? brothers lived life to the ? and for better or worse the father knew that this was going to be the only way the two of them could become men robert redford directs this film and tells the story of the ? through the perspective of the older brother norman norman gets offered a position at the university of chicago at age 26 and marries the woman he will always be in love with what this film also points out is that the younger brother paul has ? an accomplishment of his own by being the epitome of a remarkable fly ? the ? side of life ? in the younger brother's existence and ? an ? form of ? for the ? family as most human shortcomings go the ? family made light of ? waters literally and thus established ? as a family by putting necessary ? on br br the end of the movie river runs through it presents an ? of life through the eyes of the older brother for norman ? ? is a ? to ? in his ? years such a fate is largely due to the fact that ? on his life is ? to yearning for people who have passed away the fond memories of his brother his wife his mother and his father must now be viewed ? for norman his life has been ? to stubborn facts that have determined his dubious ? and ? resolve something as simple as the statement this was your life and that is how you lived it is a somber ? of the joy the sorrow the regrets and the love he gave as well as was the ? of best put in the last ? he heard his father give his father said we can completely love someone without completely understanding them whether you agree with what has happened in your life or not it happened nonetheless norman ? must come to grips with the fact that his life has been ? by ? norman ? has become a ? ? who is ? by virtual conclusions to his life the murky waters of ? ? rivers serve as a vicious and ? ? to his years on earth without question the very prolific statement of what seems complicated is really very simple ? a very ? message in this movie more simply put the people and places which were important in ? life are now only a bittersweet memory merely a painfully intellectual ? of events which are ? by the haunted waters of ? beautiful ? and rivers to which for the entire ? family all things ? into one and a river runs through it\"),\n",
              " (71,\n",
              "  \"? this movie isn't worth the film it was photographed on the dialog is flat filled with cliché ? lines and delivered by amateur actors who sound like their reading a script for the first time the choppy shaky film style is a cheap imitation of the the ring style visual effects the characters do not even act like a normal person would for example the character who is looking for her twin sister at her home forces her way through the front door creeps around the house all frightened and ? and she doesn't even once call out her sister's name to see if she is home what you would think she had just buried her sister instead of searching for her way too many flashbacks to her childhood too many unnecessary flashbacks is a typical sign of an amateur director it is actually funny watching the numerous shots of the woman driving her car down the street up the ? around this corner over here over there oh a side view now a front view enough already you would think you are watching a tv commercial for the ? terrible movie 0 out of 100 i really pity anybody who spent money making this film or to watch it\"),\n",
              " (72,\n",
              "  \"? some not so ? spoilers ahead br br why do people when they are ? or sick or scared at a club cut through the middle of the crowded dance floor on their way to the bathroom br br who in their right mind would hide under a bed when someone breaks into their room br br how often do you knock on a ? door and when they don't immediately answer you open the door walk in shout a few ? and then start going through their stuff br br if you were being pursued by someone you just discovered was a murderer what would you do quietly sneak off and hide under a wooden platform or among metal ? run quietly of course to a ? old ? or other ? structure br br i could be talking about almost any thriller that's come out in the last few years but since this is the the return page obviously i'm talking about the return i saw it free because i work at a movie theater and make a point of screening all the scary movies i thought this one was tolerable aside from the well worn clichés sarah michelle ? is really drab and looks kind of huh through most of the film the details of the plot are slowly given out as the movie progresses and it's almost enough to make it interesting except there wasn't enough explanation as it moved on and so i was almost lost until the last 2 3 of it br br if you're a die hard thriller fan it's worth seeing at least once if there's nothing better at the theater and you really want to watch a movie eh i guess it's worth a ? ticket if you thought the trailer made it look like an interesting movie and you can't wait wait\"),\n",
              " (73,\n",
              "  '? amazing effects for a movie of this time a ? of the ? of war and how war becomes a ? of itself br br a wonderful thing about this movie is it is now public ? and available at archive ? no charge no sign up necessary watch it in one sitting and you will be ? br br i plan to share this flick with as many people as possible as i had never heard of it before and i am a hard core sci fi fan br br i would like to see how others react to this movie br br watch it br br rate it br br tell us what you think'),\n",
              " (74,\n",
              "  \"? robert altman shouldn't make a movie like this but the fact that he did and that it turns out to be a reasonably good and tightly wound thriller in that ? tradition of ? thrillers shows a ? that is commendable in the ? man he actually has to work with something that unfortunately he isn't always very successful at or at least it's not the first thing on his ? as director plot there's one of those big ? almost pot ? plots where a sleazy lawyer gets caught up with a desperate low class woman and then a ? figure whom the woman is related with enters their lives in the most ? ways twists and plot ensues ? ? and it's surprising that altman would really want to take on one of these i saw that coming from back there endings or just a such a semi conventional thriller br br but it's a surprise that pays off because oddly enough altman is able to catch some of that very fine behavior or rather is able to unintentionally ? it out of a very well cast ensemble of a small town ? environment the film ? with atmosphere if not total ? ? sometimes it's good and sometimes just decent for altman as ? is possibly going to be hit by a big ? and the swamp and ? and rain keep things ? and ? and ? so the atmosphere is really potent but so are performances from sometimes hysterical kenneth ? ? ? as the ? who lawyer ? gets caught up with and robert downey jr when is he not good as the private detective in ? employ did i neglect robert duvall who in just five minutes of screen time makes such an ? impression to hang the bad ? of the picture on br br as said some of the plot is a little weak or just kind of standard lawyer is divorced bitter custody battle ? innocent and goofy kids but at the same time i think altman saw something captivating in the material something darker than some of the other ? works that has this standing out somehow if it's not entirely masterful it still works on its limited terms as a what will happen next mystery southern noir\"),\n",
              " (75,\n",
              "  \"? tim robbins is oddly ? here cast as a garage mechanic in 1950s new jersey who falls in love with a ? blonde who turns out to be albert ? niece although he's on screen much of the time robbins ? out the inner ? of his intense persona and fades into the background it's easy to forget he's even in the picture ? romantic comedy with a gimmick that being walter matthau playing einstein who does what he can with a ? conceived character otherwise it's ? and sunny directed rather ? by fred ? who shows heart but no wit or brains meg ryan is her usual ? self and the chemistry between she and robbins is charming like that of an ? sister and her big brother from\"),\n",
              " (76,\n",
              "  \"? 'the adventures of barry ? started life as a satirical comic strip in ? ? written by barry ? and based on an idea by peter cook ? ? to his friends is a ? loud hat wearing australian whose two main interests in life are sex despite never having had any and ? ? in 1972 he found his way to the big screen for the first of two ? it must have been ? for ? to cast himself as ? but he wisely left the job to barry ? later to sing the theme to the television soap opera ? ? instead played multiple roles in true peter sellers fashion most notably ? overbearing aunt ? ? this was before she became a dame br br you know this is not going to be 'the importance of being ? when its censorship ? n p a stands for ? ? ? ? hating ? is told by a sydney ? that in order to ? a share in his father's will he must go to england to ? british culture with aunt ? in ? he catches a ? flight to hong kong and then on to london an over efficient customs officer makes ? pay ? duties on everything he bought over there including a ? full of ? of ? ? as he puts it when it comes to ? you the ? have got the edge on the ? a ? taxi driver bernard ? ? the fare by taking ? and ? first to ? then scotland the streets of london are filthy and their hotel is a ? run by a seedy ? spike ? who makes ? put pound notes in the electricity ? every twenty minutes there is some good news for our hero though he meets up with other ? in ? court and ? is on sale in british ? br br what happens next is a series of comical ? that take ? from starring in his own cigarette commercial putting ? down his pants in the belief it is some form of ? a bizarre encounter with dennis price as an upper class ? who loves being ? while wearing a ? uniform a young conservative dance in ? to a charity rock concert where his song about ? ? almost makes him an international star and finally to the b b c t v centre where he pulls his pants down on a live talk show ? by the thinking man's ? herself joan ? a fire breaks out and ? friends come to the rescue ? ? of ? they ? on the flames en ? br br this is a far cry from bruce ? later works ? ? and ? miss ? on release it was ? by critics for being too ? well yes it is but it is also great non p c fun ? is a disgusting creation but his ? for life is ? you cannot help but like the guy his various ? for ? ? ? at the ? and ? 'the ? ? have passed into the english language without a lot of people knowing where they came from other guest stars include dick ? as a detective who chases ? everywhere peter cook julie ? later to star in ? ? and even future arts ? russell davies br br a sequel the wonderfully named ? ? holds his own came out two years later at its premiere ? took the opportunity to blast the critics who had ? the first film good for him br br what must have been of greater concern to him though was the release of ? ? in 1985 it also featured a ? hat wearing aussie struggling to come to terms with a foreign culture and made ? more money br br the song on the end credits performed by ? ? is magnificent you have a love a ? that includes the line if you want to send your sister in a frenzy introduce her to barry ? time to end this review i have to go the ? to shake hands with the unemployed\"),\n",
              " (77,\n",
              "  \"? as always this is an inaccurate picture of the homeless tv told a lot of lies about ? in the early 1990s and made everyone look bad and claimed we all made over 100 a day when 20 40 a day was much closer to reality when someone drove by where i held up a sign offering to work and offered me work i actually went and took the work if i was physically able and if i would been offered the 100 000 id damned sure invested in in apt ? for at least 2 years and kept most in the bank and still left myself 10 ? for ? 1 2 and 2 5 cash games at the ? i usually always win and could win decent if i just had a ? instead i win about 1000 a month is all playing in always minimum buying in due to not wanting to risk losing it all i was only homeless cause i didn't wanna risk spending all my money and going broke sometimes i had over 1000 2000 in my ? while i slept outside anyone wanting to talk contact ? on ? ? i admit i was different than most homeless people though due to the fact i never ? smoke or took drugs im no longer homeless am now in ? ? for ? a month and getting ? and spend most of my time winning at online poker mom and ? ? worked hard to get me ? glad my days of hiding in under the stage in the convention center of the casino at night sleeping worrying about getting caught by security are finally over had this tv crew picked me ? been over a lot sooner its a shame how they don't better ? who they pick\"),\n",
              " (78,\n",
              "  \"? whoever wrote the nice post about this must have been a friend of these guys this is bad even for backyard wrestling in fact this isn't even backyard wrestling really it's a few guys hitting each other on a ? each guys is about 45 ? wet and there is not one ounce of entertainment value in this it is just a few bored kids that even give yard ? a bad name if that is possible if you want to see some entertaining backyard wrestling pick up backyard wrestling a pleasure for pain it stars the 2 biggest names in ? ? and josh ? these guys are good they have actually went since ? it and gotten ? trained as real pro ? they went ? and have gotten better i recommend checking out those 2 guys ? is insane and off the hook so don't waste your time or your cash on this crappy dvd there are better back yard videos out there\"),\n",
              " (79,\n",
              "  '? in the early 1970s many of us who had ? ? acid alternative culture ? had realised that mainstream society was not going to change in the way we thought it would for me this film defined the tension of now what that many of the people i knew felt at that time do we head for the ? and create our own vision of ? or do we ? and push for change br br from the ? gestures to police the radical ? the music of pink ? to the love making and the explosive images in the desert so much is in there it captures well a significant moment in time'),\n",
              " (80,\n",
              "  '? went to see this as me and my lady had little else to do on a sunday afternoon i like films that deal with sleazy loser characters and this is full of em after a slow start we get some good turns from the cast but it is the actual ? that both makes and lets the film down the ? is one of the funniest scenes i have seen in a film for a long while but is too short and could have made this a masterpiece overall ? 2 out of 10'),\n",
              " (81,\n",
              "  \"? one of my best friends brought this movie over one night with the words ? watch the worst horror movie ever ' i always enjoy a good laugh at a bad horror flick and said yes i had expected your typical cheesy b slasher but this was beyond b this is z slasher the lowest of the low with obviously low budget extremely bad acting bad lightning no plot really bad so called ? ? shaky cameras and a horrible soundtrack this makes movies like house of wax look like oscar winning masterpieces the only good thing about it is about 15 seconds of one of the characters getting topless she had some very nice tits most of what i said during this film was along the lines of ? this is actually so ? ? is the worst movie ? and ? not drunk enough for ? so in conclusion don't waste your time or money\"),\n",
              " (82,\n",
              "  \"? really truly ? ? awful but actor ? moore the movie lone ranger ? himself competently as an actor he's the only one br br a rare treat for five minutes if you want to ? the depths of ? transparent special effects southern california as the moon again and again and again and acting so ? inept that it may be a spoof except that it's clear that it isn't no humor here except unintentionally br br the dialogue may be worse than any of these other aspects and the costumes well enough said plot what plot bad guy well head bad guy and his henchmen including his ? agent called ? listen carefully or you'll suspect it's a spoof on the name of ? ? ray ? and his unbelievably inept ? who however have ? that never need ? as does ? cody so there are numerous ? ? br br enjoy\"),\n",
              " (83,\n",
              "  \"? the biggest reason i had to see this movie was that it stars susan swift an outstanding and all too ? actress time travel movies usually don't interest me and neither do movies about witchcraft but this movie was fascinating and creepy it didn't rely on outrageous special effects and it didn't focus so heavily on the time travel that the viewer gets lost and confused this was a really creative movie kept simple and focused with great acting by all\"),\n",
              " (84,\n",
              "  \"? this film screened last night at ? paramount theater as part of the ? film festival we were ? with the presence of director mike ? and stars adam sandler and don cheadle who took audience questions after the film it is a remarkable and powerful film about what it is like to lose yourself and begin to find your way back the performances are phenomenal and the story manages to be both tragic and funny in a way that is all too rare the trailer for the film tries a little too hard to emphasize the comedic aspects br br this is a ? role for adam sandler while he has begun to transition to more dramatic roles with punch drunk love and ? this role is a significant step forward for him as a dramatic actor he deserves an oscar nomination as he continues down to transition to more dramatic roles as tom hanks did and jim carrey is also doing in this role he seemed to be trying to channel dustin hoffman in rain man although playing an ? man is certainly very different than ? traumatized character both characters for different reasons are trapped in their own worlds of child like isolation and confusion br br don ? performance is less surprising but just as good after hotel ? and crash we've come to expect remarkable nuanced performances from cheadle he has the qualities of sincerity and honesty that comes through in this role but he too is also broken and struggling if not in the such profound ways as ? character cheadle is struggling with difficulties in both his marriage and in his professional life as a dentist together the characters played by cheadle and sandler struggle to ? each other in the way that true friends often do in a way that reminds me of matt damon and robin williams in good will hunting they are both searching for that part of the themselves that they have lost and trying to find again br br reign over me is one of the best major studio films to be released this year the soundtrack which is almost another character in the plot is wonderful the filming in the streets of new york a city that suffered a great tragedy and has also had to ? itself is also quite beautiful the supporting roles by ? ? smith ? tyler ? ? in a very odd role donald sutherland and mike ? himself are all quite good br br writer director mike ? has really delivered a story that so many will be able to connect with on numerous levels this is a story about grief family healing male friendship mental health and the meaning of love reign over me does not disappoint the film is almost hypnotic as it draws you into the lives of its characters hollywood would have a much better reputation if it made more character driven charming films like reign over me\"),\n",
              " (85,\n",
              "  \"? i should explain why i gave this piece of art 1 star rating out of possible 10 simply because it's hard or next to impossible to rate it ? probably it would have been the same if i had given it 10 10 explanations anyway would have followed br br i am not fond of these pointless gore movies like hostel or so i think that's disgusting and pretty terrible in all the possible ? meanings but as i found out after watching this movie there is a genre called historical drama and probably it would have been the case of 10 10 as it has plenty of it and tarantino would have been more than happier with it and made kill bill 3 to ? even more blood on screen than here to show that it is possible but the thing about historical drama genre is that it's a sub category of the trash movies where john romero is the undead gory emperor of the guts and so automatically it can't be rated as your ? movie as these are movies that are made bad on purpose and you can't really tell whether the ? bad moment was meant to be so or it was simply bad it's for the people who like to enjoy bad acting bad screenplay and bad everything else and by some turn of faith i am one of them too there are days when i have an urge of seeing a really bad movie and look up for some trash and here you go the day is saved but that's definitely an opinion of mine and doesn't have match with ? else br br what i wanted to say is that if you want to watch some terrible movie then ? ? is definitely the choice but ? my advice and don't rate it by ? means\"),\n",
              " (86,\n",
              "  \"? i don't often go out of my way to write comments but for this i had to just to warn anyone that might think that by watching this they will see a comedy this doesn't come close while the premise change in colour gender whatever is bad enough and has been done better many times before the actual transformation of two black guys into two white girls is one of the least convincing ? ever put on screen it would be bad enough if all that was required by the script was a change to white chicks however the wayans brothers are required to disguise themselves as two specific white women as you will have guessed by now they fail completely i have seen drag queens without makeup make more convincing women than these two do with the best special effects and make up people that hollywood can provide its appalling add to the mix a basketball player built like a building terrible dialogue and more plot holes than a golf course and this film hits a new personal low and i like bad movies avoid like the plague\"),\n",
              " (87,\n",
              "  \"? my comments may be a bit of a spoiler for what it's worth stop now if you care enough br br saving grace should have been titled a paper thin excuse for old british women to get high on screen this film is dumb the incidental music is an annoyance as are the obvious hackneyed tunes that ? pop up to comment on the narrative spirit in the sky for example oh i get it this is basically a cheech and chong movie made credible by its ? english setting and brenda ? overwhelming power to ? emotion on an audience using her voice alone i could literally hear the folks over at high times magazine receiving their ? over the enormous ? that ? this picture worst scene easy brenda attempts to ? her ? ? on the street of london in a ? white dress suit not funny not original not interesting not a good movie the 7 2 rating is the result of ? over voting don't waste your time\"),\n",
              " (88,\n",
              "  '? for a movie with a plot like this i would normally smell ? in the first ten minutes and turn it off but this was very well made with emotional subtleties great acting and some genuinely funny moments it was also interesting to see a different culture a ? one at that my wife and i both ? it'),\n",
              " (89,\n",
              "  \"? i saw this film awhile back while working on a trailer for the film's production company and it was terrible ? is mediocre at best hopkins phones his performance in but still blows away ? in their scenes together and alec looks bored trust me on this you should avoid this film like the plague if it ever gets released it seems to go on forever as the tired plot unfolds at a ? pace it is relentlessly unfunny the cinematography is crappy and the direction is pedestrian alec baldwin should go to film school if he plans to direct again in terms of his acting his character is totally unlikable which makes it impossible to root for him dan ? is pretty funny and the surprising makeup of the jury near the film's end is cute but this film is just plain awful\"),\n",
              " (90,\n",
              "  \"? in fact marc ? off broadway adaptation of ? was not so ? as is generally believed br br i have a special interest in ? my dad was part of the first full production in the us u of ? theatre ? did it around the end of ww2 ? had been so nearly successful in ? the play that they had to ? the script and score from ? in two different languages neither english a german ? script and similar sources ? adaptation not a translation which had the full ? of ? ? was a lot closer to the original than generally believed br br the problem is that the version thereof that most people know is the mgm cast recording recently available on ? on cd which includes ? arthur as lucy the big complete girl and can't i see her hands on ? and shoulders thrown back on that line ? was a major babe in the 50's paul ? and john ? was heavily ? by mike ? head of mgm records i mean 17 i think it was ? s got cut to just damn br br at one time mgm also offered a 2 ? set of the entire play ? as heavily ?\"),\n",
              " (91,\n",
              "  \"? blood legacy starts with the arrival of lawyer tom drake norman ? to the dean estate ? owned by the now deceased christopher dean john carradine upon his arrival he is ? by mr ? four children gregory jeff ? his wife laura merry ? victoria faith ? johnny richard ? plus leslie brooke mills her ? carl ? john smith drake plays a tape recording of they're late father's wishes after his death the estate worth ? million dollars is to be split equally between his four children if any should die then the money would be split equally between the rest if all were to die the freaky servants ? ? ? ? buck ? the more ? named frank john russell would pocket the lot well not satisfied with a quarter share of ? million which is still almost 35 million back in 1971 which doesn't sound too bad to me someone decides they want it all for themselves it's not long before decapitated heads are turning up in the ? br br co written produced directed by roy ? blood legacy disappointed me on two accounts for starters this film's alternate much more common title is legacy of blood which is also the title of an obscure horror film directed by andy ? back in ? which i've always wanted to see both films are regularly mixed up as both have similar stories when i checked my on screen cable tv guide for legacy of blood i was excited because it said it was the ? film even listed him as director so when i actually sat down to watch it i heard john ? voice i then knew it wasn't the ? film that i had wanted to see my heart ? then of course there's the simple yet undeniably straight forward fact that blood legacy is a total utter piece of crap that is literally painful to watch at times the script by ? eric ? is slow boring extremely predictable the character's are absolutely bizarre in an annoying way the freak of a servant who ? his sister to ? him the strange set of brother's sisters who are just downright unlikeable so far removed from reality that any tension or mystery that the simplistic ? story could have achieved is sorely missing then there's the awful twist ending that you can guess within the first 10 minutes it's boring to watch it's poorly paced it's just a chore to even think about it please someone save me as this is really bad stuff i could go on all day about how bad blood legacy is i really could br br director ? was either working with a none existent budget or judging by this he shouldn't have even been directing traffic the entire film looks ugly it's poorly photographed there is no atmosphere or scares the blood gore is tame there's an axe in a head a decapitated head a scene when someone is ? to death by ? the best murder when someone's face is eaten by ? however there are question marks over this scene so there's the victim right there's the tank of ? right victims head is placed in ? tank right ? eat victims face right water remains crystal clear despite said victim having his face eaten ? where's the blood br br technically blood legacy is terrible it looks awful the sound was obviously shot live it's ? hard to hear which considering the terrible dialogue is maybe a ? in disguise the acting was not going to win anyone any awards that's for sure the least said about it the better br br blood legacy is an awful film there really isn't a single positive aspect to it or if there is i can't think of it do yourself a favour don't bother with this one there are much better films out there\"),\n",
              " (92,\n",
              "  \"? i'd really really wanted to see this movie and waited for months to get it through our blockbuster total access account when it showed up in our ? i threw it straight into the dvd player br br i was very sadly disappointed which in turn made me mad i'll give any movie a chance even if i want to walk out of the theater press ? i watched it all the way through but didn't get anything from it but frustration br br the acting was very very good but that was about it nothing is explained while we understand that mathieu becomes depressed and lands in a ? ward of some kind we're never given insight to his ? while we understand that he and cedric break up again we don't see it happen or why it happened during an interview with ? doctor cedric reveals that he'd cheated on him once but it was no big deal i expected to see this in flashbacks but no nothing we also gets the hints that cedric was the one to bring ? to the hospital but again we don't see it br br i know some movies are a ? it as it ? basis but this movie honestly ? me off when pierre ? ex shows up in the club and starts trouble we don't see hide nor hair of him until near the end and it took me a good ? of time to figure out that pierre was the ex his personality at the club and when ? finds him are entirely different i might even be wrong saying this it was that confusing br br the film expects you to know everything and move along with its disjointed out of place and confusing pace i can keep up with films like ? ? ? and other films that have flashbacks flash ? left and right but ? didn't capture and hold onto the style at the end of ? ? you know what's going on and discover the answer to the main mysteries ? just leaves you hanging it has an air of ? in its ? not gonna tell you a damned thing figure it out for ? presentation it's like reading a book with the chapters switched around and pages missing br br good acting like i said i liked the characters but the whole story was just too disappointing\"),\n",
              " (93,\n",
              "  \"? tashan the title itself explains the nature of the movie br br this type of movies are actually made for flop what a shame that ? raj films produces such movies those are worthless than c grade movies or even some c grade movies have better and pleasing story than tashan the much hyped and over ? promoted tashan poorly bombed at the box office which it certainly deserved br br in my view this is the worst movie ever made from ? ? raj ? ? how come they handled such a heavy project to new ? ? ? who has no actual sense of making action flick he tried to imitate ? ? ways of making like ? but he suffered at last the action scenes are more like than comics or cartoon movies made for ? the audiences br br the story also loses in its meaning and ? to ? win the ? hearts in most scenes anil kapoor reminds me of southern ? star ? in his body languages and ? expressions i am not a fan of neither saif nor akshay but the award of kareena should have finally gone to ? hand instead of akshay just from the starting point i expected of it but at the end it ? me with the climax truth saif is the main behind the whole adventure while akshay joins in the midst in any movie the final should be judged with the whole characters of the entire story and the award or say reward should be given to the one who deserves credit and tashan loses in this way and unexpectedly failed to become a hit br br ? has nothing new to show off his comedian talent here but still reminds of his previous movies he seriously need to form a new image to his fans that would impress them again and again in between saif did a great job in race and now he returned again in his hilarious nature through this movie but he has fully developed himself in the acting field and last but not the least about kareena she looks really hot with bikini dress of which some complain as she became too lean but i myself don't think so instead she became slim yes slim it is a good factor for a female to attract the major people or say male beside them it is nice that ? son ? appears in the beginning last as young saif i hope now he too will lean forward in target of making acting as his career br br those who like this tashan they are either mentally ? or still want to go back to childhood or say want to be admitted in an asylum thumbs down to ? director ? ? ? who ? the project offered by ? raj films in future he should experiment and study the script minimum of 5 years before going into practical directions br br sorry i don't like to rate good stars to this type of junk movies\"),\n",
              " (94,\n",
              "  '? where do i begin i wanted to enjoy this movie and i did still i wanted to be able to enjoy it for being another zombie film that was worth my ? and it ? this was a different kind of enjoyment this was ? a perverse glee that i ? in watching one of the most ridiculous films id seen yet and i dont much care for whatever ? excuses were there was no excuse for this film going how it went this was a bad film all the way around yet i still cant give it below a 4 out of ten which is what i gave it because well at least i was able to laugh at this ? of a movie br br i had to imagine these zombies that were all over the ? of these buildings everywhere had to imagine that they were either bored as hell so they ? up on the ? and ? themselves high on stone ? or they saw the ? living ? band of jerk offs coming around so they took it upon themselves to stage numerous ? ? hell what else is there to do when ? dead br br i had to laugh at some zombies performing what looked to be martial arts ? kicks and jumps and some ? about like traditional ? i ? my eyes on a floating head that was never explained i watched in pure horrific delight as the land they were in the ? was absolutely ? in fog heavy doses of fog and that the ? were as they were ? castle ? i had to even cringe when i saw that the design for a cure for this plague was ? on a ? as an ? with lines ? from each angle with dead one written in the middle i had to ask myself if the science of ? zombies is that easy then i wonder if i could come up with a little something to start a zombie ? here br br all in all the effects were overboard the dubbing horrid im sure the original acting as poor the story absurd the zombies inconsistent even in a bad way they ? all been similar and the women ugly but i found myself enjoying this thing it was a fun watch it turned out to be a very very bad film and i would not recommend this thing unless one is into bad directorial exploitation films but still again i say it was worth a good laugh i ? zombie films no matter what but when this had ? name attached to it it ? been much better let me dare say zombie holocaust was better'),\n",
              " (95,\n",
              "  \"? i really must have caught a different film from the rest of the ? on this site because at a screening of the film last night the audience was so ? by the ? that i'm not even kidding half walked out shot as if the filmmaker thought he were approaching some daring new territory by presenting a homosexual coming of age story the film ? david lynch inspired visuals with fassbinder inspired acting the performances in this film are so dull and bored that i figured one of the actors was going to pass out by how uninspired they seemed to be by the script what's worse is that it's colored like an episode of miami vice i don't know who this director thinks he is maybe he has ? of the surreal like ? ? etc but the problem is that all of the ? mentioned directors display a level of ? sensibility that is sorely lacking here i could understand the ? of this film about ten years ago but when we've got masterpieces such as bad ? mysterious skin and show me love why bother with this cinematic turd there is nothing new to be seen here\"),\n",
              " (96,\n",
              "  \"? tom ? ? br br aspect ratio 1 ? 1 br br sound format ? br br in late 19th century england young tom brown alex ? is sent to the public school at ? where he experiences the ? of a radical new ? stephen ? and stands up to the ? resident bully ? joseph ? br br already the subject of numerous screen adaptations most notably gordon ? superior 1951 version thomas ? ? novel gets the early 21st century treatment courtesy of screenwriter ashley ? tv's where the heart is and director david moore the ? saga it's pleasant enough and watchable but it's also rather ? and dull distinguished only by ? sincere performance as the new principal determined to ? away some of the ? most dubious ? and by the introduction of a possible new star in 14 year old ? a talented kid with the kind of ? charm and vivid good looks that should take him all the way to hollywood and beyond otherwise this is typical uk tv fodder the kind of stuff ? by executives eager to fill the ? with ? product even one as thoroughly ? as this the uk ? ? ? described it as ? odd and raised a ? ? over all of that ? and brutality and a handsome ? villain torturing the life out of sweet young boys quite\"),\n",
              " (97,\n",
              "  \"? not that much things happen in this movie but a lot of meanings the woman thought she had all that she can in life but that was indeed not true and she found out herself when she met this person who was ? some research for his next job there really should be more types of movies like this im not even that old as considered mature im 13 by the way and i still got the idea and point of the film the main point is in my opinion don't think you can't have a better life just because you currently have this one br br though i got to admit i was thinking of watching another movie but after reading all the reviews and seen the trailer i decided on this one even though i knew not that much action would appear in the film i recommend anyone to watch this movie as it has very good points in the film and is a really good ending\"),\n",
              " (98,\n",
              "  \"? this movie is wonderful br br i was ? i should say and surprised because of how uniquely it was done the cast the ? the effects everything magnificent i mean it was a love story yes but what made it outstanding from the rest was that it was told in an entertaining wholesome manner br br for me it is the representation of modern fairy tale it's like the modern peter pan simply amazing br br i surely would buy a copy of this the moment it hit the market br br this movie is really a double must see one 10 stars for that\"),\n",
              " (99,\n",
              "  \"? steve carpenter cannot make horror movies first of all the casting was very wrong for this movie the only decent part was the hot brown haired girl from buffy the vampire ? this movies has no gore usually a key ? to a horror movie no action no acting and no suspense also a key ? wes ? is a good actor but he is so dry and plain in this that it's sad there were a few parts that were supposed to be funny continuing the teen horror comedy movies and no one laughed in the audience i thought that this movie was rated r and i didn't pay attention and realized it had been changed to pg 13 anyway see this movie if you liked i still know what you did last summer that's the only type of person who would find this movie even remotely scary and seriously this is to you steve carpenter stop making horror movies this movie makes scream look like texas chainsaw massacre\")]"
            ]
          },
          "metadata": {},
          "execution_count": 14
        }
      ]
    },
    {
      "cell_type": "code",
      "source": [
        "ansL = [1,0,0,1,0,1,1,0,0,0,\n",
        "     1,1,0,0,0,1,0,1,0,1,\n",
        "     0,0,1,0,0,1,1,0,0,0,\n",
        "     0,1,1,1,0,1,1,0,0,1,\n",
        "     0,0,0,0,1,1,0,0,0,0,\n",
        "     1,1,1,0,0,0,1,1,1,1,\n",
        "     1,1,0,1,0,1,0,1,0,1,\n",
        "     0,1,1,0,0,1,1,1,1,0,\n",
        "     0,1,0,1,1,1,0,0,1,0,\n",
        "     1,0,1,0,0,0,1,1,1,1]\n",
        "sum(train_labels[0:100] == ansL)"
      ],
      "metadata": {
        "colab": {
          "base_uri": "https://localhost:8080/"
        },
        "id": "7DreAyZHMD8f",
        "outputId": "b7bf0d72-0c0a-4c61-e846-6c89243d745a"
      },
      "execution_count": 26,
      "outputs": [
        {
          "output_type": "execute_result",
          "data": {
            "text/plain": [
              "60"
            ]
          },
          "metadata": {},
          "execution_count": 26
        }
      ]
    },
    {
      "cell_type": "markdown",
      "metadata": {
        "id": "SKQbjsYXc-L5"
      },
      "source": [
        "### Preparing the data"
      ]
    },
    {
      "cell_type": "markdown",
      "metadata": {
        "id": "DDbIlBrSc-L5"
      },
      "source": [
        "**Encoding the integer sequences via multi-hot encoding**"
      ]
    },
    {
      "cell_type": "code",
      "execution_count": 6,
      "metadata": {
        "id": "ayi8nsShc-L5"
      },
      "outputs": [],
      "source": [
        "import numpy as np\n",
        "def vectorize_sequences(sequences, dimension=10000):\n",
        "    results = np.zeros((len(sequences), dimension))\n",
        "    for i, sequence in enumerate(sequences):\n",
        "        for j in sequence:\n",
        "            results[i, j] = 1.\n",
        "    return results\n",
        "x_train = vectorize_sequences(train_data)\n",
        "x_test = vectorize_sequences(test_data)"
      ]
    },
    {
      "cell_type": "code",
      "execution_count": 7,
      "metadata": {
        "colab": {
          "base_uri": "https://localhost:8080/"
        },
        "id": "mAsaAm9tc-L6",
        "outputId": "2bf9802b-5e8c-4888-c219-5c054320be07"
      },
      "outputs": [
        {
          "output_type": "execute_result",
          "data": {
            "text/plain": [
              "array([0., 1., 1., ..., 0., 0., 0.])"
            ]
          },
          "metadata": {},
          "execution_count": 7
        }
      ],
      "source": [
        "x_train[0]"
      ]
    },
    {
      "cell_type": "code",
      "execution_count": 8,
      "metadata": {
        "id": "VOTG_uHrc-L6"
      },
      "outputs": [],
      "source": [
        "y_train = np.asarray(train_labels).astype(\"float32\")\n",
        "y_test = np.asarray(test_labels).astype(\"float32\")"
      ]
    },
    {
      "cell_type": "markdown",
      "metadata": {
        "id": "UxnGKwlHc-L6"
      },
      "source": [
        "### Building your model"
      ]
    },
    {
      "cell_type": "markdown",
      "metadata": {
        "id": "Js7Sor6Fc-L6"
      },
      "source": [
        "**Model definition**"
      ]
    },
    {
      "cell_type": "code",
      "execution_count": 9,
      "metadata": {
        "id": "hmbOboWKc-L6"
      },
      "outputs": [],
      "source": [
        "from tensorflow import keras\n",
        "from tensorflow.keras import layers\n",
        "\n",
        "model = keras.Sequential([\n",
        "    layers.Dense(16, activation=\"relu\"),\n",
        "    layers.Dense(16, activation=\"relu\"),\n",
        "    layers.Dense(1, activation=\"sigmoid\")\n",
        "])"
      ]
    },
    {
      "cell_type": "markdown",
      "metadata": {
        "id": "BqwZZrdYc-L6"
      },
      "source": [
        "**Compiling the model**"
      ]
    },
    {
      "cell_type": "code",
      "execution_count": 10,
      "metadata": {
        "id": "68BYbBcLc-L7"
      },
      "outputs": [],
      "source": [
        "model.compile(optimizer=\"rmsprop\",\n",
        "              loss=\"binary_crossentropy\",\n",
        "              metrics=[\"accuracy\"])"
      ]
    },
    {
      "cell_type": "markdown",
      "metadata": {
        "id": "4SE2d2fac-L7"
      },
      "source": [
        "### Validating your approach"
      ]
    },
    {
      "cell_type": "markdown",
      "metadata": {
        "id": "dD2ejh-cc-L7"
      },
      "source": [
        "**Setting aside a validation set**"
      ]
    },
    {
      "cell_type": "code",
      "execution_count": 11,
      "metadata": {
        "id": "Qq1Am0XZc-L7"
      },
      "outputs": [],
      "source": [
        "x_val = x_train[:10000]\n",
        "partial_x_train = x_train[10000:]\n",
        "y_val = y_train[:10000]\n",
        "partial_y_train = y_train[10000:]"
      ]
    },
    {
      "cell_type": "markdown",
      "metadata": {
        "id": "05DJWUnOc-L7"
      },
      "source": [
        "**Training your model**"
      ]
    },
    {
      "cell_type": "code",
      "execution_count": 12,
      "metadata": {
        "colab": {
          "base_uri": "https://localhost:8080/"
        },
        "id": "GUnnEOABc-L8",
        "outputId": "7f358c4e-57e8-4152-ec7e-fb521603f8dd"
      },
      "outputs": [
        {
          "output_type": "stream",
          "name": "stdout",
          "text": [
            "Epoch 1/20\n",
            "30/30 [==============================] - 3s 48ms/step - loss: 0.4861 - accuracy: 0.7952 - val_loss: 0.3746 - val_accuracy: 0.8618\n",
            "Epoch 2/20\n",
            "30/30 [==============================] - 1s 36ms/step - loss: 0.2918 - accuracy: 0.9011 - val_loss: 0.3156 - val_accuracy: 0.8771\n",
            "Epoch 3/20\n",
            "30/30 [==============================] - 1s 35ms/step - loss: 0.2139 - accuracy: 0.9273 - val_loss: 0.2755 - val_accuracy: 0.8908\n",
            "Epoch 4/20\n",
            "30/30 [==============================] - 1s 36ms/step - loss: 0.1669 - accuracy: 0.9460 - val_loss: 0.2978 - val_accuracy: 0.8779\n",
            "Epoch 5/20\n",
            "30/30 [==============================] - 1s 35ms/step - loss: 0.1353 - accuracy: 0.9556 - val_loss: 0.3095 - val_accuracy: 0.8790\n",
            "Epoch 6/20\n",
            "30/30 [==============================] - 1s 35ms/step - loss: 0.1115 - accuracy: 0.9645 - val_loss: 0.2989 - val_accuracy: 0.8856\n",
            "Epoch 7/20\n",
            "30/30 [==============================] - 1s 35ms/step - loss: 0.0943 - accuracy: 0.9716 - val_loss: 0.3182 - val_accuracy: 0.8816\n",
            "Epoch 8/20\n",
            "30/30 [==============================] - 1s 36ms/step - loss: 0.0758 - accuracy: 0.9778 - val_loss: 0.3449 - val_accuracy: 0.8808\n",
            "Epoch 9/20\n",
            "30/30 [==============================] - 1s 35ms/step - loss: 0.0606 - accuracy: 0.9841 - val_loss: 0.3634 - val_accuracy: 0.8776\n",
            "Epoch 10/20\n",
            "30/30 [==============================] - 1s 35ms/step - loss: 0.0486 - accuracy: 0.9880 - val_loss: 0.4085 - val_accuracy: 0.8723\n",
            "Epoch 11/20\n",
            "30/30 [==============================] - 1s 35ms/step - loss: 0.0399 - accuracy: 0.9907 - val_loss: 0.4302 - val_accuracy: 0.8716\n",
            "Epoch 12/20\n",
            "30/30 [==============================] - 1s 36ms/step - loss: 0.0332 - accuracy: 0.9923 - val_loss: 0.4552 - val_accuracy: 0.8739\n",
            "Epoch 13/20\n",
            "30/30 [==============================] - 1s 35ms/step - loss: 0.0270 - accuracy: 0.9941 - val_loss: 0.4877 - val_accuracy: 0.8708\n",
            "Epoch 14/20\n",
            "30/30 [==============================] - 1s 35ms/step - loss: 0.0183 - accuracy: 0.9974 - val_loss: 0.5664 - val_accuracy: 0.8652\n",
            "Epoch 15/20\n",
            "30/30 [==============================] - 1s 36ms/step - loss: 0.0132 - accuracy: 0.9990 - val_loss: 0.5665 - val_accuracy: 0.8708\n",
            "Epoch 16/20\n",
            "30/30 [==============================] - 1s 35ms/step - loss: 0.0156 - accuracy: 0.9970 - val_loss: 0.5931 - val_accuracy: 0.8686\n",
            "Epoch 17/20\n",
            "30/30 [==============================] - 1s 35ms/step - loss: 0.0077 - accuracy: 0.9995 - val_loss: 0.7770 - val_accuracy: 0.8492\n",
            "Epoch 18/20\n",
            "30/30 [==============================] - 1s 35ms/step - loss: 0.0077 - accuracy: 0.9991 - val_loss: 0.6553 - val_accuracy: 0.8671\n",
            "Epoch 19/20\n",
            "30/30 [==============================] - 1s 35ms/step - loss: 0.0093 - accuracy: 0.9981 - val_loss: 0.6956 - val_accuracy: 0.8649\n",
            "Epoch 20/20\n",
            "30/30 [==============================] - 1s 34ms/step - loss: 0.0031 - accuracy: 0.9999 - val_loss: 0.7214 - val_accuracy: 0.8666\n"
          ]
        }
      ],
      "source": [
        "history = model.fit(partial_x_train,\n",
        "                    partial_y_train,\n",
        "                    epochs=20,\n",
        "                    batch_size=512,\n",
        "                    validation_data=(x_val, y_val))"
      ]
    },
    {
      "cell_type": "code",
      "execution_count": 13,
      "metadata": {
        "colab": {
          "base_uri": "https://localhost:8080/"
        },
        "id": "bjO7b0NKc-L8",
        "outputId": "5a9f6505-6aec-4a41-ebf0-7f229b1f864e"
      },
      "outputs": [
        {
          "output_type": "execute_result",
          "data": {
            "text/plain": [
              "dict_keys(['loss', 'accuracy', 'val_loss', 'val_accuracy'])"
            ]
          },
          "metadata": {},
          "execution_count": 13
        }
      ],
      "source": [
        "history_dict = history.history\n",
        "history_dict.keys()"
      ]
    },
    {
      "cell_type": "markdown",
      "metadata": {
        "id": "r8dti0d6c-L8"
      },
      "source": [
        "**Plotting the training and validation loss**"
      ]
    },
    {
      "cell_type": "code",
      "execution_count": 14,
      "metadata": {
        "colab": {
          "base_uri": "https://localhost:8080/",
          "height": 295
        },
        "id": "3OpkrmgFc-L8",
        "outputId": "c84bdb72-66de-41b9-9ecd-797960a38d0d"
      },
      "outputs": [
        {
          "output_type": "display_data",
          "data": {
            "text/plain": [
              "<Figure size 432x288 with 1 Axes>"
            ],
            "image/png": "[encoded data removed]"
          },
          "metadata": {
            "needs_background": "light"
          }
        }
      ],
      "source": [
        "import matplotlib.pyplot as plt\n",
        "history_dict = history.history\n",
        "loss_values = history_dict[\"loss\"]\n",
        "val_loss_values = history_dict[\"val_loss\"]\n",
        "epochs = range(1, len(loss_values) + 1)\n",
        "plt.plot(epochs, loss_values, \"bo\", label=\"Training loss\")\n",
        "plt.plot(epochs, val_loss_values, \"b\", label=\"Validation loss\")\n",
        "plt.title(\"Training and validation loss\")\n",
        "plt.xlabel(\"Epochs\")\n",
        "plt.ylabel(\"Loss\")\n",
        "plt.legend()\n",
        "plt.show()"
      ]
    },
    {
      "cell_type": "markdown",
      "metadata": {
        "id": "ikfFNi2hc-L8"
      },
      "source": [
        "**Plotting the training and validation accuracy**"
      ]
    },
    {
      "cell_type": "code",
      "execution_count": 15,
      "metadata": {
        "colab": {
          "base_uri": "https://localhost:8080/",
          "height": 295
        },
        "id": "DpZ5ViAPc-L8",
        "outputId": "00dc4e71-788e-4ed5-d001-5ce4db6755d4"
      },
      "outputs": [
        {
          "output_type": "display_data",
          "data": {
            "text/plain": [
              "<Figure size 432x288 with 1 Axes>"
            ],
            "image/png": "[encoded data removed]"
          },
          "metadata": {
            "needs_background": "light"
          }
        }
      ],
      "source": [
        "plt.clf()\n",
        "acc = history_dict[\"accuracy\"]\n",
        "val_acc = history_dict[\"val_accuracy\"]\n",
        "plt.plot(epochs, acc, \"bo\", label=\"Training acc\")\n",
        "plt.plot(epochs, val_acc, \"b\", label=\"Validation acc\")\n",
        "plt.title(\"Training and validation accuracy\")\n",
        "plt.xlabel(\"Epochs\")\n",
        "plt.ylabel(\"Accuracy\")\n",
        "plt.legend()\n",
        "plt.show()"
      ]
    },
    {
      "cell_type": "markdown",
      "metadata": {
        "id": "h3aX3lfqc-L9"
      },
      "source": [
        "**Retraining a model from scratch**"
      ]
    },
    {
      "cell_type": "code",
      "execution_count": 16,
      "metadata": {
        "colab": {
          "base_uri": "https://localhost:8080/"
        },
        "id": "mUOBWhMKc-L9",
        "outputId": "121bf4af-2b0c-4275-eb6a-dd5a521411a4"
      },
      "outputs": [
        {
          "output_type": "stream",
          "name": "stdout",
          "text": [
            "Epoch 1/4\n",
            "49/49 [==============================] - 2s 28ms/step - loss: 0.4634 - accuracy: 0.8179\n",
            "Epoch 2/4\n",
            "49/49 [==============================] - 1s 29ms/step - loss: 0.2650 - accuracy: 0.9080\n",
            "Epoch 3/4\n",
            "49/49 [==============================] - 1s 28ms/step - loss: 0.2033 - accuracy: 0.9278\n",
            "Epoch 4/4\n",
            "49/49 [==============================] - 1s 28ms/step - loss: 0.1704 - accuracy: 0.9401\n",
            "782/782 [==============================] - 2s 2ms/step - loss: 0.3054 - accuracy: 0.8780\n"
          ]
        }
      ],
      "source": [
        "model = keras.Sequential([\n",
        "    layers.Dense(16, activation=\"relu\"),\n",
        "    layers.Dense(16, activation=\"relu\"),\n",
        "    layers.Dense(1, activation=\"sigmoid\")\n",
        "])\n",
        "model.compile(optimizer=\"rmsprop\",\n",
        "              loss=\"binary_crossentropy\",\n",
        "              metrics=[\"accuracy\"])\n",
        "model.fit(x_train, y_train, epochs=4, batch_size=512)\n",
        "results = model.evaluate(x_test, y_test)"
      ]
    },
    {
      "cell_type": "code",
      "execution_count": 17,
      "metadata": {
        "colab": {
          "base_uri": "https://localhost:8080/"
        },
        "id": "BS-X9136c-L9",
        "outputId": "9d8d8aa6-3467-4a9c-accf-d99ba4a37020"
      },
      "outputs": [
        {
          "output_type": "execute_result",
          "data": {
            "text/plain": [
              "[0.30540841817855835, 0.878000020980835]"
            ]
          },
          "metadata": {},
          "execution_count": 17
        }
      ],
      "source": [
        "results"
      ]
    },
    {
      "cell_type": "markdown",
      "metadata": {
        "id": "REK4NlQtc-L9"
      },
      "source": [
        "### Using a trained model to generate predictions on new data"
      ]
    },
    {
      "cell_type": "code",
      "execution_count": 18,
      "metadata": {
        "colab": {
          "base_uri": "https://localhost:8080/"
        },
        "id": "qcEUG6eFc-L9",
        "outputId": "b4a22077-bff5-448c-e41f-4113c6c6f79b"
      },
      "outputs": [
        {
          "output_type": "execute_result",
          "data": {
            "text/plain": [
              "array([[0.19278476],\n",
              "       [0.9999218 ],\n",
              "       [0.6885245 ],\n",
              "       ...,\n",
              "       [0.11240774],\n",
              "       [0.06415114],\n",
              "       [0.40968508]], dtype=float32)"
            ]
          },
          "metadata": {},
          "execution_count": 18
        }
      ],
      "source": [
        "model.predict(x_test)"
      ]
    },
    {
      "cell_type": "markdown",
      "metadata": {
        "id": "gLYtLs9Fc-L9"
      },
      "source": [
        "### Further experiments"
      ]
    },
    {
      "cell_type": "markdown",
      "metadata": {
        "id": "Qyibkzt9c-L-"
      },
      "source": [
        "### Wrapping up"
      ]
    },
    {
      "cell_type": "markdown",
      "metadata": {
        "id": "pASzGoaNc-L-"
      },
      "source": [
        "## Classifying newswires: A multiclass classification example"
      ]
    },
    {
      "cell_type": "markdown",
      "metadata": {
        "id": "B_FEj8Q0c-L-"
      },
      "source": [
        "### The Reuters dataset"
      ]
    },
    {
      "cell_type": "markdown",
      "metadata": {
        "id": "Hv8oCeZPc-L-"
      },
      "source": [
        "**Loading the Reuters dataset**"
      ]
    },
    {
      "cell_type": "code",
      "execution_count": 19,
      "metadata": {
        "colab": {
          "base_uri": "https://localhost:8080/"
        },
        "id": "FSL-6gZoc-L-",
        "outputId": "2c803f37-efe5-40c4-c15e-ca6543cb50f6"
      },
      "outputs": [
        {
          "output_type": "stream",
          "name": "stdout",
          "text": [
            "Downloading data from https://storage.googleapis.com/tensorflow/tf-keras-datasets/reuters.npz\n",
            "2113536/2110848 [==============================] - 0s 0us/step\n",
            "2121728/2110848 [==============================] - 0s 0us/step\n"
          ]
        }
      ],
      "source": [
        "from tensorflow.keras.datasets import reuters\n",
        "(train_data, train_labels), (test_data, test_labels) = reuters.load_data(\n",
        "    num_words=10000)"
      ]
    },
    {
      "cell_type": "code",
      "execution_count": 20,
      "metadata": {
        "colab": {
          "base_uri": "https://localhost:8080/"
        },
        "id": "yaoxkgaqc-L-",
        "outputId": "b9155273-0041-4716-9d4b-ff9341ce8906"
      },
      "outputs": [
        {
          "output_type": "execute_result",
          "data": {
            "text/plain": [
              "8982"
            ]
          },
          "metadata": {},
          "execution_count": 20
        }
      ],
      "source": [
        "len(train_data)"
      ]
    },
    {
      "cell_type": "code",
      "execution_count": 21,
      "metadata": {
        "colab": {
          "base_uri": "https://localhost:8080/"
        },
        "id": "FJwY51xcc-L-",
        "outputId": "782349f5-862e-4830-8cc4-09303763425c"
      },
      "outputs": [
        {
          "output_type": "execute_result",
          "data": {
            "text/plain": [
              "2246"
            ]
          },
          "metadata": {},
          "execution_count": 21
        }
      ],
      "source": [
        "len(test_data)"
      ]
    },
    {
      "cell_type": "code",
      "execution_count": 22,
      "metadata": {
        "colab": {
          "base_uri": "https://localhost:8080/"
        },
        "id": "-Njlid5lc-L-",
        "outputId": "ad718a29-b283-4a78-cf4b-1d1b77682d8c"
      },
      "outputs": [
        {
          "output_type": "execute_result",
          "data": {
            "text/plain": [
              "[1,\n",
              " 245,\n",
              " 273,\n",
              " 207,\n",
              " 156,\n",
              " 53,\n",
              " 74,\n",
              " 160,\n",
              " 26,\n",
              " 14,\n",
              " 46,\n",
              " 296,\n",
              " 26,\n",
              " 39,\n",
              " 74,\n",
              " 2979,\n",
              " 3554,\n",
              " 14,\n",
              " 46,\n",
              " 4689,\n",
              " 4329,\n",
              " 86,\n",
              " 61,\n",
              " 3499,\n",
              " 4795,\n",
              " 14,\n",
              " 61,\n",
              " 451,\n",
              " 4329,\n",
              " 17,\n",
              " 12]"
            ]
          },
          "metadata": {},
          "execution_count": 22
        }
      ],
      "source": [
        "train_data[10]"
      ]
    },
    {
      "cell_type": "markdown",
      "metadata": {
        "id": "RtrA25kQc-L_"
      },
      "source": [
        "**Decoding newswires back to text**"
      ]
    },
    {
      "cell_type": "code",
      "execution_count": 23,
      "metadata": {
        "colab": {
          "base_uri": "https://localhost:8080/"
        },
        "id": "7XqD5Q0qc-L_",
        "outputId": "128bd232-4d6e-4f2d-8368-ef15b3dc5247"
      },
      "outputs": [
        {
          "output_type": "stream",
          "name": "stdout",
          "text": [
            "Downloading data from https://storage.googleapis.com/tensorflow/tf-keras-datasets/reuters_word_index.json\n",
            "557056/550378 [==============================] - 0s 0us/step\n",
            "565248/550378 [==============================] - 0s 0us/step\n"
          ]
        }
      ],
      "source": [
        "word_index = reuters.get_word_index()\n",
        "reverse_word_index = dict([(value, key) for (key, value) in word_index.items()])\n",
        "decoded_newswire = \" \".join([reverse_word_index.get(i - 3, \"?\") for i in\n",
        "    train_data[0]])"
      ]
    },
    {
      "cell_type": "code",
      "execution_count": 24,
      "metadata": {
        "colab": {
          "base_uri": "https://localhost:8080/"
        },
        "id": "Sg2Zix7mc-L_",
        "outputId": "f521dcd6-2d5d-4870-8aa8-b839f379ac9c"
      },
      "outputs": [
        {
          "output_type": "execute_result",
          "data": {
            "text/plain": [
              "3"
            ]
          },
          "metadata": {},
          "execution_count": 24
        }
      ],
      "source": [
        "train_labels[10]"
      ]
    },
    {
      "cell_type": "markdown",
      "metadata": {
        "id": "qQfmDctcc-L_"
      },
      "source": [
        "### Preparing the data"
      ]
    },
    {
      "cell_type": "markdown",
      "metadata": {
        "id": "PLk-GmPoc-L_"
      },
      "source": [
        "**Encoding the input data**"
      ]
    },
    {
      "cell_type": "code",
      "execution_count": 25,
      "metadata": {
        "id": "fjxgIMRvc-MA"
      },
      "outputs": [],
      "source": [
        "x_train = vectorize_sequences(train_data)\n",
        "x_test = vectorize_sequences(test_data)"
      ]
    },
    {
      "cell_type": "markdown",
      "metadata": {
        "id": "KmXH9XWWc-MA"
      },
      "source": [
        "**Encoding the labels**"
      ]
    },
    {
      "cell_type": "code",
      "execution_count": 26,
      "metadata": {
        "id": "bZGGYiPnc-MA"
      },
      "outputs": [],
      "source": [
        "def to_one_hot(labels, dimension=46):\n",
        "    results = np.zeros((len(labels), dimension))\n",
        "    for i, label in enumerate(labels):\n",
        "        results[i, label] = 1.\n",
        "    return results\n",
        "y_train = to_one_hot(train_labels)\n",
        "y_test = to_one_hot(test_labels)"
      ]
    },
    {
      "cell_type": "code",
      "execution_count": 27,
      "metadata": {
        "id": "TlX1m5kOc-MA"
      },
      "outputs": [],
      "source": [
        "from tensorflow.keras.utils import to_categorical\n",
        "y_train = to_categorical(train_labels)\n",
        "y_test = to_categorical(test_labels)"
      ]
    },
    {
      "cell_type": "markdown",
      "metadata": {
        "id": "Ls4wAeKKc-MA"
      },
      "source": [
        "### Building your model"
      ]
    },
    {
      "cell_type": "markdown",
      "metadata": {
        "id": "iAJguxnYc-MA"
      },
      "source": [
        "**Model definition**"
      ]
    },
    {
      "cell_type": "code",
      "execution_count": 28,
      "metadata": {
        "id": "4dn2Gxe4c-MA"
      },
      "outputs": [],
      "source": [
        "model = keras.Sequential([\n",
        "    layers.Dense(64, activation=\"relu\"),\n",
        "    layers.Dense(64, activation=\"relu\"),\n",
        "    layers.Dense(46, activation=\"softmax\")\n",
        "])"
      ]
    },
    {
      "cell_type": "markdown",
      "metadata": {
        "id": "hcrC5gZBc-MB"
      },
      "source": [
        "**Compiling the model**"
      ]
    },
    {
      "cell_type": "code",
      "execution_count": 29,
      "metadata": {
        "id": "omyv2_-Qc-MB"
      },
      "outputs": [],
      "source": [
        "model.compile(optimizer=\"rmsprop\",\n",
        "              loss=\"categorical_crossentropy\",\n",
        "              metrics=[\"accuracy\"])"
      ]
    },
    {
      "cell_type": "markdown",
      "metadata": {
        "id": "R68FwxXac-MB"
      },
      "source": [
        "### Validating your approach"
      ]
    },
    {
      "cell_type": "markdown",
      "metadata": {
        "id": "1DAKOOM1c-MB"
      },
      "source": [
        "**Setting aside a validation set**"
      ]
    },
    {
      "cell_type": "code",
      "execution_count": 30,
      "metadata": {
        "id": "W7ixxutlc-MB"
      },
      "outputs": [],
      "source": [
        "x_val = x_train[:1000]\n",
        "partial_x_train = x_train[1000:]\n",
        "y_val = y_train[:1000]\n",
        "partial_y_train = y_train[1000:]"
      ]
    },
    {
      "cell_type": "markdown",
      "metadata": {
        "id": "O40y2Duxc-MB"
      },
      "source": [
        "**Training the model**"
      ]
    },
    {
      "cell_type": "code",
      "execution_count": 31,
      "metadata": {
        "colab": {
          "base_uri": "https://localhost:8080/"
        },
        "id": "Srl2AWi-c-MB",
        "outputId": "68a54dd0-0d58-41d5-87a2-4d8030a4006c"
      },
      "outputs": [
        {
          "output_type": "stream",
          "name": "stdout",
          "text": [
            "Epoch 1/20\n",
            "16/16 [==============================] - 2s 63ms/step - loss: 2.5667 - accuracy: 0.5401 - val_loss: 1.7286 - val_accuracy: 0.6410\n",
            "Epoch 2/20\n",
            "16/16 [==============================] - 1s 52ms/step - loss: 1.4097 - accuracy: 0.7105 - val_loss: 1.3117 - val_accuracy: 0.7120\n",
            "Epoch 3/20\n",
            "16/16 [==============================] - 1s 51ms/step - loss: 1.0449 - accuracy: 0.7772 - val_loss: 1.1422 - val_accuracy: 0.7550\n",
            "Epoch 4/20\n",
            "16/16 [==============================] - 1s 49ms/step - loss: 0.8177 - accuracy: 0.8290 - val_loss: 1.0366 - val_accuracy: 0.7810\n",
            "Epoch 5/20\n",
            "16/16 [==============================] - 1s 51ms/step - loss: 0.6468 - accuracy: 0.8653 - val_loss: 0.9568 - val_accuracy: 0.8080\n",
            "Epoch 6/20\n",
            "16/16 [==============================] - 1s 50ms/step - loss: 0.5158 - accuracy: 0.8930 - val_loss: 0.9156 - val_accuracy: 0.8100\n",
            "Epoch 7/20\n",
            "16/16 [==============================] - 1s 50ms/step - loss: 0.4149 - accuracy: 0.9121 - val_loss: 0.8949 - val_accuracy: 0.8120\n",
            "Epoch 8/20\n",
            "16/16 [==============================] - 1s 51ms/step - loss: 0.3358 - accuracy: 0.9300 - val_loss: 0.8867 - val_accuracy: 0.8180\n",
            "Epoch 9/20\n",
            "16/16 [==============================] - 1s 50ms/step - loss: 0.2781 - accuracy: 0.9389 - val_loss: 0.9138 - val_accuracy: 0.8120\n",
            "Epoch 10/20\n",
            "16/16 [==============================] - 1s 51ms/step - loss: 0.2347 - accuracy: 0.9439 - val_loss: 0.9105 - val_accuracy: 0.8130\n",
            "Epoch 11/20\n",
            "16/16 [==============================] - 1s 51ms/step - loss: 0.2012 - accuracy: 0.9489 - val_loss: 0.9387 - val_accuracy: 0.8090\n",
            "Epoch 12/20\n",
            "16/16 [==============================] - 1s 51ms/step - loss: 0.1804 - accuracy: 0.9528 - val_loss: 0.9451 - val_accuracy: 0.8040\n",
            "Epoch 13/20\n",
            "16/16 [==============================] - 1s 50ms/step - loss: 0.1586 - accuracy: 0.9549 - val_loss: 0.9530 - val_accuracy: 0.8110\n",
            "Epoch 14/20\n",
            "16/16 [==============================] - 1s 49ms/step - loss: 0.1497 - accuracy: 0.9546 - val_loss: 1.0175 - val_accuracy: 0.8050\n",
            "Epoch 15/20\n",
            "16/16 [==============================] - 1s 49ms/step - loss: 0.1352 - accuracy: 0.9558 - val_loss: 1.0097 - val_accuracy: 0.8090\n",
            "Epoch 16/20\n",
            "16/16 [==============================] - 1s 51ms/step - loss: 0.1309 - accuracy: 0.9574 - val_loss: 1.0429 - val_accuracy: 0.7960\n",
            "Epoch 17/20\n",
            "16/16 [==============================] - 1s 51ms/step - loss: 0.1230 - accuracy: 0.9584 - val_loss: 1.0622 - val_accuracy: 0.8020\n",
            "Epoch 18/20\n",
            "16/16 [==============================] - 1s 50ms/step - loss: 0.1161 - accuracy: 0.9560 - val_loss: 1.0520 - val_accuracy: 0.8100\n",
            "Epoch 19/20\n",
            "16/16 [==============================] - 1s 51ms/step - loss: 0.1177 - accuracy: 0.9584 - val_loss: 1.0759 - val_accuracy: 0.8010\n",
            "Epoch 20/20\n",
            "16/16 [==============================] - 1s 50ms/step - loss: 0.1134 - accuracy: 0.9558 - val_loss: 1.0833 - val_accuracy: 0.8000\n"
          ]
        }
      ],
      "source": [
        "history = model.fit(partial_x_train,\n",
        "                    partial_y_train,\n",
        "                    epochs=20,\n",
        "                    batch_size=512,\n",
        "                    validation_data=(x_val, y_val))"
      ]
    },
    {
      "cell_type": "markdown",
      "metadata": {
        "id": "9__1fIP5c-MB"
      },
      "source": [
        "**Plotting the training and validation loss**"
      ]
    },
    {
      "cell_type": "code",
      "execution_count": 32,
      "metadata": {
        "colab": {
          "base_uri": "https://localhost:8080/",
          "height": 295
        },
        "id": "KymPw9jDc-MC",
        "outputId": "75bca04b-71d7-4b3f-9154-079b9ce6ed52"
      },
      "outputs": [
        {
          "output_type": "display_data",
          "data": {
            "text/plain": [
              "<Figure size 432x288 with 1 Axes>"
            ],
            "image/png": "[encoded data removed]"
          },
          "metadata": {
            "needs_background": "light"
          }
        }
      ],
      "source": [
        "loss = history.history[\"loss\"]\n",
        "val_loss = history.history[\"val_loss\"]\n",
        "epochs = range(1, len(loss) + 1)\n",
        "plt.plot(epochs, loss, \"bo\", label=\"Training loss\")\n",
        "plt.plot(epochs, val_loss, \"b\", label=\"Validation loss\")\n",
        "plt.title(\"Training and validation loss\")\n",
        "plt.xlabel(\"Epochs\")\n",
        "plt.ylabel(\"Loss\")\n",
        "plt.legend()\n",
        "plt.show()"
      ]
    },
    {
      "cell_type": "markdown",
      "metadata": {
        "id": "J_Y3CsxYc-MC"
      },
      "source": [
        "**Plotting the training and validation accuracy**"
      ]
    },
    {
      "cell_type": "code",
      "execution_count": 33,
      "metadata": {
        "colab": {
          "base_uri": "https://localhost:8080/",
          "height": 295
        },
        "id": "OThuR7OUc-MC",
        "outputId": "1cc8d3c7-7f25-4c1b-9772-543f3912b2f2"
      },
      "outputs": [
        {
          "output_type": "display_data",
          "data": {
            "text/plain": [
              "<Figure size 432x288 with 1 Axes>"
            ],
            "image/png": "[encoded data removed]"
          },
          "metadata": {
            "needs_background": "light"
          }
        }
      ],
      "source": [
        "plt.clf()\n",
        "acc = history.history[\"accuracy\"]\n",
        "val_acc = history.history[\"val_accuracy\"]\n",
        "plt.plot(epochs, acc, \"bo\", label=\"Training accuracy\")\n",
        "plt.plot(epochs, val_acc, \"b\", label=\"Validation accuracy\")\n",
        "plt.title(\"Training and validation accuracy\")\n",
        "plt.xlabel(\"Epochs\")\n",
        "plt.ylabel(\"Accuracy\")\n",
        "plt.legend()\n",
        "plt.show()"
      ]
    },
    {
      "cell_type": "markdown",
      "metadata": {
        "id": "eO0cxhq0c-MC"
      },
      "source": [
        "**Retraining a model from scratch**"
      ]
    },
    {
      "cell_type": "code",
      "execution_count": 34,
      "metadata": {
        "colab": {
          "base_uri": "https://localhost:8080/"
        },
        "id": "po5Ad-Lkc-MC",
        "outputId": "6bf32f99-69d9-4716-c174-e7a70c987b16"
      },
      "outputs": [
        {
          "output_type": "stream",
          "name": "stdout",
          "text": [
            "Epoch 1/9\n",
            "18/18 [==============================] - 1s 49ms/step - loss: 2.4708 - accuracy: 0.5429\n",
            "Epoch 2/9\n",
            "18/18 [==============================] - 1s 48ms/step - loss: 1.3210 - accuracy: 0.7185\n",
            "Epoch 3/9\n",
            "18/18 [==============================] - 1s 46ms/step - loss: 0.9709 - accuracy: 0.7910\n",
            "Epoch 4/9\n",
            "18/18 [==============================] - 1s 46ms/step - loss: 0.7573 - accuracy: 0.8403\n",
            "Epoch 5/9\n",
            "18/18 [==============================] - 1s 46ms/step - loss: 0.6035 - accuracy: 0.8751\n",
            "Epoch 6/9\n",
            "18/18 [==============================] - 1s 46ms/step - loss: 0.4799 - accuracy: 0.8998\n",
            "Epoch 7/9\n",
            "18/18 [==============================] - 1s 49ms/step - loss: 0.3831 - accuracy: 0.9186\n",
            "Epoch 8/9\n",
            "18/18 [==============================] - 1s 47ms/step - loss: 0.3151 - accuracy: 0.9309\n",
            "Epoch 9/9\n",
            "18/18 [==============================] - 1s 45ms/step - loss: 0.2594 - accuracy: 0.9397\n",
            "71/71 [==============================] - 0s 3ms/step - loss: 0.9442 - accuracy: 0.7952\n"
          ]
        }
      ],
      "source": [
        "model = keras.Sequential([\n",
        "  layers.Dense(64, activation=\"relu\"),\n",
        "  layers.Dense(64, activation=\"relu\"),\n",
        "  layers.Dense(46, activation=\"softmax\")\n",
        "])\n",
        "model.compile(optimizer=\"rmsprop\",\n",
        "              loss=\"categorical_crossentropy\",\n",
        "              metrics=[\"accuracy\"])\n",
        "model.fit(x_train,\n",
        "          y_train,\n",
        "          epochs=9,\n",
        "          batch_size=512)\n",
        "results = model.evaluate(x_test, y_test)"
      ]
    },
    {
      "cell_type": "code",
      "execution_count": 35,
      "metadata": {
        "colab": {
          "base_uri": "https://localhost:8080/"
        },
        "id": "ApKDSi35c-MC",
        "outputId": "29ad04fa-abc6-46d1-85ec-0b0d31c65470"
      },
      "outputs": [
        {
          "output_type": "execute_result",
          "data": {
            "text/plain": [
              "[0.9441964626312256, 0.7951914668083191]"
            ]
          },
          "metadata": {},
          "execution_count": 35
        }
      ],
      "source": [
        "results"
      ]
    },
    {
      "cell_type": "code",
      "execution_count": 36,
      "metadata": {
        "colab": {
          "base_uri": "https://localhost:8080/"
        },
        "id": "-AZNNUoSc-MC",
        "outputId": "af05a367-7e32-425b-e90b-b4a28c8ce10c"
      },
      "outputs": [
        {
          "output_type": "execute_result",
          "data": {
            "text/plain": [
              "0.1794300979519145"
            ]
          },
          "metadata": {},
          "execution_count": 36
        }
      ],
      "source": [
        "import copy\n",
        "test_labels_copy = copy.copy(test_labels)\n",
        "np.random.shuffle(test_labels_copy)\n",
        "hits_array = np.array(test_labels) == np.array(test_labels_copy)\n",
        "hits_array.mean()"
      ]
    },
    {
      "cell_type": "markdown",
      "metadata": {
        "id": "S9XmlbLgc-MD"
      },
      "source": [
        "### Generating predictions on new data"
      ]
    },
    {
      "cell_type": "code",
      "execution_count": 37,
      "metadata": {
        "id": "yiY59Kbkc-MD"
      },
      "outputs": [],
      "source": [
        "predictions = model.predict(x_test)"
      ]
    },
    {
      "cell_type": "code",
      "execution_count": 38,
      "metadata": {
        "colab": {
          "base_uri": "https://localhost:8080/"
        },
        "id": "U-f9pLUmc-MD",
        "outputId": "8f728bb7-dd20-421f-9b5b-3c2050b1864f"
      },
      "outputs": [
        {
          "output_type": "execute_result",
          "data": {
            "text/plain": [
              "(46,)"
            ]
          },
          "metadata": {},
          "execution_count": 38
        }
      ],
      "source": [
        "predictions[0].shape"
      ]
    },
    {
      "cell_type": "code",
      "execution_count": 39,
      "metadata": {
        "colab": {
          "base_uri": "https://localhost:8080/"
        },
        "id": "G-r_mtUqc-MD",
        "outputId": "c95ab0ff-6bd1-4831-865c-d0ee52a05ffc"
      },
      "outputs": [
        {
          "output_type": "execute_result",
          "data": {
            "text/plain": [
              "0.99999994"
            ]
          },
          "metadata": {},
          "execution_count": 39
        }
      ],
      "source": [
        "np.sum(predictions[0])"
      ]
    },
    {
      "cell_type": "code",
      "execution_count": 40,
      "metadata": {
        "colab": {
          "base_uri": "https://localhost:8080/"
        },
        "id": "zrkPDn0Oc-MD",
        "outputId": "571dbbb9-7529-4055-a631-8133ea7169df"
      },
      "outputs": [
        {
          "output_type": "execute_result",
          "data": {
            "text/plain": [
              "3"
            ]
          },
          "metadata": {},
          "execution_count": 40
        }
      ],
      "source": [
        "np.argmax(predictions[0])"
      ]
    },
    {
      "cell_type": "markdown",
      "metadata": {
        "id": "OL7an1dwc-MD"
      },
      "source": [
        "### A different way to handle the labels and the loss"
      ]
    },
    {
      "cell_type": "code",
      "execution_count": 41,
      "metadata": {
        "id": "LvNJpOwlc-MD"
      },
      "outputs": [],
      "source": [
        "y_train = np.array(train_labels)\n",
        "y_test = np.array(test_labels)"
      ]
    },
    {
      "cell_type": "code",
      "execution_count": 42,
      "metadata": {
        "id": "DDbQ5Zb7c-MD"
      },
      "outputs": [],
      "source": [
        "model.compile(optimizer=\"rmsprop\",\n",
        "              loss=\"sparse_categorical_crossentropy\",\n",
        "              metrics=[\"accuracy\"])"
      ]
    },
    {
      "cell_type": "markdown",
      "metadata": {
        "id": "rATcu9TAc-MD"
      },
      "source": [
        "### The importance of having sufficiently large intermediate layers"
      ]
    },
    {
      "cell_type": "markdown",
      "metadata": {
        "id": "wsrWv0Jkc-ME"
      },
      "source": [
        "**A model with an information bottleneck**"
      ]
    },
    {
      "cell_type": "code",
      "execution_count": 43,
      "metadata": {
        "colab": {
          "base_uri": "https://localhost:8080/"
        },
        "id": "KssplNQUc-ME",
        "outputId": "5f110193-3c19-4228-e641-992107735f7a"
      },
      "outputs": [
        {
          "output_type": "stream",
          "name": "stdout",
          "text": [
            "Epoch 1/20\n",
            "63/63 [==============================] - 2s 21ms/step - loss: 3.1589 - accuracy: 0.2781 - val_loss: 2.4293 - val_accuracy: 0.6010\n",
            "Epoch 2/20\n",
            "63/63 [==============================] - 1s 18ms/step - loss: 1.7899 - accuracy: 0.6614 - val_loss: 1.5705 - val_accuracy: 0.6460\n",
            "Epoch 3/20\n",
            "63/63 [==============================] - 1s 18ms/step - loss: 1.3060 - accuracy: 0.6931 - val_loss: 1.4299 - val_accuracy: 0.6760\n",
            "Epoch 4/20\n",
            "63/63 [==============================] - 1s 18ms/step - loss: 1.1429 - accuracy: 0.7132 - val_loss: 1.3952 - val_accuracy: 0.6810\n",
            "Epoch 5/20\n",
            "63/63 [==============================] - 1s 18ms/step - loss: 1.0323 - accuracy: 0.7275 - val_loss: 1.3575 - val_accuracy: 0.6820\n",
            "Epoch 6/20\n",
            "63/63 [==============================] - 1s 18ms/step - loss: 0.9427 - accuracy: 0.7537 - val_loss: 1.3439 - val_accuracy: 0.7000\n",
            "Epoch 7/20\n",
            "63/63 [==============================] - 1s 19ms/step - loss: 0.8688 - accuracy: 0.7764 - val_loss: 1.3463 - val_accuracy: 0.6990\n",
            "Epoch 8/20\n",
            "63/63 [==============================] - 1s 19ms/step - loss: 0.8052 - accuracy: 0.7905 - val_loss: 1.3659 - val_accuracy: 0.7010\n",
            "Epoch 9/20\n",
            "63/63 [==============================] - 1s 18ms/step - loss: 0.7489 - accuracy: 0.7997 - val_loss: 1.3862 - val_accuracy: 0.7120\n",
            "Epoch 10/20\n",
            "63/63 [==============================] - 1s 18ms/step - loss: 0.6999 - accuracy: 0.8166 - val_loss: 1.4407 - val_accuracy: 0.7110\n",
            "Epoch 11/20\n",
            "63/63 [==============================] - 1s 18ms/step - loss: 0.6550 - accuracy: 0.8237 - val_loss: 1.4646 - val_accuracy: 0.7170\n",
            "Epoch 12/20\n",
            "63/63 [==============================] - 1s 18ms/step - loss: 0.6194 - accuracy: 0.8282 - val_loss: 1.4957 - val_accuracy: 0.7130\n",
            "Epoch 13/20\n",
            "63/63 [==============================] - 1s 18ms/step - loss: 0.5881 - accuracy: 0.8305 - val_loss: 1.5466 - val_accuracy: 0.7170\n",
            "Epoch 14/20\n",
            "63/63 [==============================] - 1s 18ms/step - loss: 0.5605 - accuracy: 0.8330 - val_loss: 1.6234 - val_accuracy: 0.7140\n",
            "Epoch 15/20\n",
            "63/63 [==============================] - 1s 18ms/step - loss: 0.5358 - accuracy: 0.8385 - val_loss: 1.6601 - val_accuracy: 0.7140\n",
            "Epoch 16/20\n",
            "63/63 [==============================] - 1s 19ms/step - loss: 0.5154 - accuracy: 0.8416 - val_loss: 1.7061 - val_accuracy: 0.7110\n",
            "Epoch 17/20\n",
            "63/63 [==============================] - 1s 18ms/step - loss: 0.4955 - accuracy: 0.8494 - val_loss: 1.7650 - val_accuracy: 0.7170\n",
            "Epoch 18/20\n",
            "63/63 [==============================] - 1s 18ms/step - loss: 0.4749 - accuracy: 0.8598 - val_loss: 1.8578 - val_accuracy: 0.7170\n",
            "Epoch 19/20\n",
            "63/63 [==============================] - 1s 18ms/step - loss: 0.4597 - accuracy: 0.8662 - val_loss: 1.8949 - val_accuracy: 0.7130\n",
            "Epoch 20/20\n",
            "63/63 [==============================] - 1s 18ms/step - loss: 0.4440 - accuracy: 0.8710 - val_loss: 1.9162 - val_accuracy: 0.7150\n"
          ]
        },
        {
          "output_type": "execute_result",
          "data": {
            "text/plain": [
              "<keras.callbacks.History at 0x7fbdbed3ca90>"
            ]
          },
          "metadata": {},
          "execution_count": 43
        }
      ],
      "source": [
        "model = keras.Sequential([\n",
        "    layers.Dense(64, activation=\"relu\"),\n",
        "    layers.Dense(4, activation=\"relu\"),\n",
        "    layers.Dense(46, activation=\"softmax\")\n",
        "])\n",
        "model.compile(optimizer=\"rmsprop\",\n",
        "              loss=\"categorical_crossentropy\",\n",
        "              metrics=[\"accuracy\"])\n",
        "model.fit(partial_x_train,\n",
        "          partial_y_train,\n",
        "          epochs=20,\n",
        "          batch_size=128,\n",
        "          validation_data=(x_val, y_val))"
      ]
    },
    {
      "cell_type": "markdown",
      "metadata": {
        "id": "lQ_NUah_c-ME"
      },
      "source": [
        "### Further experiments"
      ]
    },
    {
      "cell_type": "markdown",
      "metadata": {
        "id": "AxhrgGtpc-MG"
      },
      "source": [
        "### Wrapping up"
      ]
    },
    {
      "cell_type": "markdown",
      "metadata": {
        "id": "LUhr068xc-MG"
      },
      "source": [
        "## Predicting house prices: A regression example"
      ]
    },
    {
      "cell_type": "markdown",
      "metadata": {
        "id": "HtHin5cwc-MG"
      },
      "source": [
        "### The Boston Housing Price dataset"
      ]
    },
    {
      "cell_type": "markdown",
      "metadata": {
        "id": "aZ8bQOFKc-MG"
      },
      "source": [
        "**Loading the Boston housing dataset**"
      ]
    },
    {
      "cell_type": "code",
      "execution_count": 44,
      "metadata": {
        "colab": {
          "base_uri": "https://localhost:8080/"
        },
        "id": "2Sc5p55gc-MG",
        "outputId": "3df41aca-0f11-40d6-9be1-93edce1884b4"
      },
      "outputs": [
        {
          "output_type": "stream",
          "name": "stdout",
          "text": [
            "Downloading data from https://storage.googleapis.com/tensorflow/tf-keras-datasets/boston_housing.npz\n",
            "57344/57026 [==============================] - 0s 0us/step\n",
            "65536/57026 [==================================] - 0s 0us/step\n"
          ]
        }
      ],
      "source": [
        "from tensorflow.keras.datasets import boston_housing\n",
        "(train_data, train_targets), (test_data, test_targets) = boston_housing.load_data()"
      ]
    },
    {
      "cell_type": "code",
      "execution_count": 45,
      "metadata": {
        "colab": {
          "base_uri": "https://localhost:8080/"
        },
        "id": "TfJtvzBGc-MG",
        "outputId": "8ce05a86-d5b7-45fb-91b3-b99775594240"
      },
      "outputs": [
        {
          "output_type": "execute_result",
          "data": {
            "text/plain": [
              "(404, 13)"
            ]
          },
          "metadata": {},
          "execution_count": 45
        }
      ],
      "source": [
        "train_data.shape"
      ]
    },
    {
      "cell_type": "code",
      "execution_count": 46,
      "metadata": {
        "colab": {
          "base_uri": "https://localhost:8080/"
        },
        "id": "0RWePRrOc-MG",
        "outputId": "cb6a8de9-43ff-451a-8648-e9b8cc5c0a0d"
      },
      "outputs": [
        {
          "output_type": "execute_result",
          "data": {
            "text/plain": [
              "(102, 13)"
            ]
          },
          "metadata": {},
          "execution_count": 46
        }
      ],
      "source": [
        "test_data.shape"
      ]
    },
    {
      "cell_type": "code",
      "execution_count": 47,
      "metadata": {
        "colab": {
          "base_uri": "https://localhost:8080/"
        },
        "id": "HgMWlUHNc-MG",
        "outputId": "16bbc373-6127-4139-c506-d214a16fc7d8"
      },
      "outputs": [
        {
          "output_type": "execute_result",
          "data": {
            "text/plain": [
              "array([15.2, 42.3, 50. , 21.1, 17.7, 18.5, 11.3, 15.6, 15.6, 14.4, 12.1,\n",
              "       17.9, 23.1, 19.9, 15.7,  8.8, 50. , 22.5, 24.1, 27.5, 10.9, 30.8,\n",
              "       32.9, 24. , 18.5, 13.3, 22.9, 34.7, 16.6, 17.5, 22.3, 16.1, 14.9,\n",
              "       23.1, 34.9, 25. , 13.9, 13.1, 20.4, 20. , 15.2, 24.7, 22.2, 16.7,\n",
              "       12.7, 15.6, 18.4, 21. , 30.1, 15.1, 18.7,  9.6, 31.5, 24.8, 19.1,\n",
              "       22. , 14.5, 11. , 32. , 29.4, 20.3, 24.4, 14.6, 19.5, 14.1, 14.3,\n",
              "       15.6, 10.5,  6.3, 19.3, 19.3, 13.4, 36.4, 17.8, 13.5, 16.5,  8.3,\n",
              "       14.3, 16. , 13.4, 28.6, 43.5, 20.2, 22. , 23. , 20.7, 12.5, 48.5,\n",
              "       14.6, 13.4, 23.7, 50. , 21.7, 39.8, 38.7, 22.2, 34.9, 22.5, 31.1,\n",
              "       28.7, 46. , 41.7, 21. , 26.6, 15. , 24.4, 13.3, 21.2, 11.7, 21.7,\n",
              "       19.4, 50. , 22.8, 19.7, 24.7, 36.2, 14.2, 18.9, 18.3, 20.6, 24.6,\n",
              "       18.2,  8.7, 44. , 10.4, 13.2, 21.2, 37. , 30.7, 22.9, 20. , 19.3,\n",
              "       31.7, 32. , 23.1, 18.8, 10.9, 50. , 19.6,  5. , 14.4, 19.8, 13.8,\n",
              "       19.6, 23.9, 24.5, 25. , 19.9, 17.2, 24.6, 13.5, 26.6, 21.4, 11.9,\n",
              "       22.6, 19.6,  8.5, 23.7, 23.1, 22.4, 20.5, 23.6, 18.4, 35.2, 23.1,\n",
              "       27.9, 20.6, 23.7, 28. , 13.6, 27.1, 23.6, 20.6, 18.2, 21.7, 17.1,\n",
              "        8.4, 25.3, 13.8, 22.2, 18.4, 20.7, 31.6, 30.5, 20.3,  8.8, 19.2,\n",
              "       19.4, 23.1, 23. , 14.8, 48.8, 22.6, 33.4, 21.1, 13.6, 32.2, 13.1,\n",
              "       23.4, 18.9, 23.9, 11.8, 23.3, 22.8, 19.6, 16.7, 13.4, 22.2, 20.4,\n",
              "       21.8, 26.4, 14.9, 24.1, 23.8, 12.3, 29.1, 21. , 19.5, 23.3, 23.8,\n",
              "       17.8, 11.5, 21.7, 19.9, 25. , 33.4, 28.5, 21.4, 24.3, 27.5, 33.1,\n",
              "       16.2, 23.3, 48.3, 22.9, 22.8, 13.1, 12.7, 22.6, 15. , 15.3, 10.5,\n",
              "       24. , 18.5, 21.7, 19.5, 33.2, 23.2,  5. , 19.1, 12.7, 22.3, 10.2,\n",
              "       13.9, 16.3, 17. , 20.1, 29.9, 17.2, 37.3, 45.4, 17.8, 23.2, 29. ,\n",
              "       22. , 18. , 17.4, 34.6, 20.1, 25. , 15.6, 24.8, 28.2, 21.2, 21.4,\n",
              "       23.8, 31. , 26.2, 17.4, 37.9, 17.5, 20. ,  8.3, 23.9,  8.4, 13.8,\n",
              "        7.2, 11.7, 17.1, 21.6, 50. , 16.1, 20.4, 20.6, 21.4, 20.6, 36.5,\n",
              "        8.5, 24.8, 10.8, 21.9, 17.3, 18.9, 36.2, 14.9, 18.2, 33.3, 21.8,\n",
              "       19.7, 31.6, 24.8, 19.4, 22.8,  7.5, 44.8, 16.8, 18.7, 50. , 50. ,\n",
              "       19.5, 20.1, 50. , 17.2, 20.8, 19.3, 41.3, 20.4, 20.5, 13.8, 16.5,\n",
              "       23.9, 20.6, 31.5, 23.3, 16.8, 14. , 33.8, 36.1, 12.8, 18.3, 18.7,\n",
              "       19.1, 29. , 30.1, 50. , 50. , 22. , 11.9, 37.6, 50. , 22.7, 20.8,\n",
              "       23.5, 27.9, 50. , 19.3, 23.9, 22.6, 15.2, 21.7, 19.2, 43.8, 20.3,\n",
              "       33.2, 19.9, 22.5, 32.7, 22. , 17.1, 19. , 15. , 16.1, 25.1, 23.7,\n",
              "       28.7, 37.2, 22.6, 16.4, 25. , 29.8, 22.1, 17.4, 18.1, 30.3, 17.5,\n",
              "       24.7, 12.6, 26.5, 28.7, 13.3, 10.4, 24.4, 23. , 20. , 17.8,  7. ,\n",
              "       11.8, 24.4, 13.8, 19.4, 25.2, 19.4, 19.4, 29.1])"
            ]
          },
          "metadata": {},
          "execution_count": 47
        }
      ],
      "source": [
        "train_targets"
      ]
    },
    {
      "cell_type": "markdown",
      "metadata": {
        "id": "1xqk71uWc-MH"
      },
      "source": [
        "### Preparing the data"
      ]
    },
    {
      "cell_type": "markdown",
      "metadata": {
        "id": "H53_H7jsc-MH"
      },
      "source": [
        "**Normalizing the data**"
      ]
    },
    {
      "cell_type": "code",
      "execution_count": 48,
      "metadata": {
        "id": "eCoNGBGXc-MH"
      },
      "outputs": [],
      "source": [
        "mean = train_data.mean(axis=0)\n",
        "train_data -= mean\n",
        "std = train_data.std(axis=0)\n",
        "train_data /= std\n",
        "test_data -= mean\n",
        "test_data /= std"
      ]
    },
    {
      "cell_type": "markdown",
      "metadata": {
        "id": "VC7Yg3ztc-MH"
      },
      "source": [
        "### Building your model"
      ]
    },
    {
      "cell_type": "markdown",
      "metadata": {
        "id": "luWTI1XBc-MH"
      },
      "source": [
        "**Model definition**"
      ]
    },
    {
      "cell_type": "code",
      "execution_count": 49,
      "metadata": {
        "id": "oPqYTFavc-MH"
      },
      "outputs": [],
      "source": [
        "def build_model():\n",
        "    model = keras.Sequential([\n",
        "        layers.Dense(64, activation=\"relu\"),\n",
        "        layers.Dense(64, activation=\"relu\"),\n",
        "        layers.Dense(1)\n",
        "    ])\n",
        "    model.compile(optimizer=\"rmsprop\", loss=\"mse\", metrics=[\"mae\"])\n",
        "    return model"
      ]
    },
    {
      "cell_type": "markdown",
      "metadata": {
        "id": "DMcFdCqTc-MH"
      },
      "source": [
        "### Validating your approach using K-fold validation"
      ]
    },
    {
      "cell_type": "markdown",
      "metadata": {
        "id": "yQp9opZYc-MH"
      },
      "source": [
        "**K-fold validation**"
      ]
    },
    {
      "cell_type": "code",
      "execution_count": 50,
      "metadata": {
        "colab": {
          "base_uri": "https://localhost:8080/"
        },
        "id": "En4Nbcdgc-MH",
        "outputId": "ea4421be-6f84-4174-bc9f-d0c8bb80b3ba"
      },
      "outputs": [
        {
          "output_type": "stream",
          "name": "stdout",
          "text": [
            "Processing fold #0\n",
            "Processing fold #1\n",
            "Processing fold #2\n",
            "Processing fold #3\n"
          ]
        }
      ],
      "source": [
        "k = 4\n",
        "num_val_samples = len(train_data) // k\n",
        "num_epochs = 100\n",
        "all_scores = []\n",
        "for i in range(k):\n",
        "    print(f\"Processing fold #{i}\")\n",
        "    val_data = train_data[i * num_val_samples: (i + 1) * num_val_samples]\n",
        "    val_targets = train_targets[i * num_val_samples: (i + 1) * num_val_samples]\n",
        "    partial_train_data = np.concatenate(\n",
        "        [train_data[:i * num_val_samples],\n",
        "         train_data[(i + 1) * num_val_samples:]],\n",
        "        axis=0)\n",
        "    partial_train_targets = np.concatenate(\n",
        "        [train_targets[:i * num_val_samples],\n",
        "         train_targets[(i + 1) * num_val_samples:]],\n",
        "        axis=0)\n",
        "    model = build_model()\n",
        "    model.fit(partial_train_data, partial_train_targets,\n",
        "              epochs=num_epochs, batch_size=16, verbose=0)\n",
        "    val_mse, val_mae = model.evaluate(val_data, val_targets, verbose=0)\n",
        "    all_scores.append(val_mae)"
      ]
    },
    {
      "cell_type": "code",
      "execution_count": 51,
      "metadata": {
        "colab": {
          "base_uri": "https://localhost:8080/"
        },
        "id": "oI4hRCj-c-MH",
        "outputId": "5eb811cc-14d5-46e8-aed0-97785a6ef8ef"
      },
      "outputs": [
        {
          "output_type": "execute_result",
          "data": {
            "text/plain": [
              "[2.1960818767547607, 2.3639423847198486, 2.6687023639678955, 2.444758415222168]"
            ]
          },
          "metadata": {},
          "execution_count": 51
        }
      ],
      "source": [
        "all_scores"
      ]
    },
    {
      "cell_type": "code",
      "execution_count": 52,
      "metadata": {
        "colab": {
          "base_uri": "https://localhost:8080/"
        },
        "id": "ozfAdNpdc-MI",
        "outputId": "4c53eae1-1590-4caf-abb4-14dbb77972e9"
      },
      "outputs": [
        {
          "output_type": "execute_result",
          "data": {
            "text/plain": [
              "2.418371260166168"
            ]
          },
          "metadata": {},
          "execution_count": 52
        }
      ],
      "source": [
        "np.mean(all_scores)"
      ]
    },
    {
      "cell_type": "markdown",
      "metadata": {
        "id": "Ecl6u0bCc-MI"
      },
      "source": [
        "**Saving the validation logs at each fold**"
      ]
    },
    {
      "cell_type": "code",
      "execution_count": 53,
      "metadata": {
        "colab": {
          "base_uri": "https://localhost:8080/"
        },
        "id": "Y_pT7pBKc-MI",
        "outputId": "00c94c99-fe8c-408b-b881-0c3022ed4076"
      },
      "outputs": [
        {
          "output_type": "stream",
          "name": "stdout",
          "text": [
            "Processing fold #0\n",
            "Processing fold #1\n",
            "Processing fold #2\n",
            "Processing fold #3\n"
          ]
        }
      ],
      "source": [
        "num_epochs = 500\n",
        "all_mae_histories = []\n",
        "for i in range(k):\n",
        "    print(f\"Processing fold #{i}\")\n",
        "    val_data = train_data[i * num_val_samples: (i + 1) * num_val_samples]\n",
        "    val_targets = train_targets[i * num_val_samples: (i + 1) * num_val_samples]\n",
        "    partial_train_data = np.concatenate(\n",
        "        [train_data[:i * num_val_samples],\n",
        "         train_data[(i + 1) * num_val_samples:]],\n",
        "        axis=0)\n",
        "    partial_train_targets = np.concatenate(\n",
        "        [train_targets[:i * num_val_samples],\n",
        "         train_targets[(i + 1) * num_val_samples:]],\n",
        "        axis=0)\n",
        "    model = build_model()\n",
        "    history = model.fit(partial_train_data, partial_train_targets,\n",
        "                        validation_data=(val_data, val_targets),\n",
        "                        epochs=num_epochs, batch_size=16, verbose=0)\n",
        "    mae_history = history.history[\"val_mae\"]\n",
        "    all_mae_histories.append(mae_history)"
      ]
    },
    {
      "cell_type": "markdown",
      "metadata": {
        "id": "3TYB3gcSc-MI"
      },
      "source": [
        "**Building the history of successive mean K-fold validation scores**"
      ]
    },
    {
      "cell_type": "code",
      "execution_count": 54,
      "metadata": {
        "id": "yXQQb0zic-MI"
      },
      "outputs": [],
      "source": [
        "average_mae_history = [\n",
        "    np.mean([x[i] for x in all_mae_histories]) for i in range(num_epochs)]"
      ]
    },
    {
      "cell_type": "markdown",
      "metadata": {
        "id": "kx7cOuTNc-MI"
      },
      "source": [
        "**Plotting validation scores**"
      ]
    },
    {
      "cell_type": "code",
      "execution_count": 55,
      "metadata": {
        "colab": {
          "base_uri": "https://localhost:8080/",
          "height": 279
        },
        "id": "51eR1Lfkc-MI",
        "outputId": "c97c6d09-9066-457d-ad49-0601e595fe0c"
      },
      "outputs": [
        {
          "output_type": "display_data",
          "data": {
            "text/plain": [
              "<Figure size 432x288 with 1 Axes>"
            ],
            "image/png": "[encoded data removed]"
          },
          "metadata": {
            "needs_background": "light"
          }
        }
      ],
      "source": [
        "plt.plot(range(1, len(average_mae_history) + 1), average_mae_history)\n",
        "plt.xlabel(\"Epochs\")\n",
        "plt.ylabel(\"Validation MAE\")\n",
        "plt.show()"
      ]
    },
    {
      "cell_type": "markdown",
      "metadata": {
        "id": "JyToTvxPc-MI"
      },
      "source": [
        "**Plotting validation scores, excluding the first 10 data points**"
      ]
    },
    {
      "cell_type": "code",
      "execution_count": 56,
      "metadata": {
        "colab": {
          "base_uri": "https://localhost:8080/",
          "height": 279
        },
        "id": "dmoWezngc-MI",
        "outputId": "1c9d6b6c-fbce-40f3-f916-ac0c73a283e5"
      },
      "outputs": [
        {
          "output_type": "display_data",
          "data": {
            "text/plain": [
              "<Figure size 432x288 with 1 Axes>"
            ],
            "image/png": "[encoded data removed]"
          },
          "metadata": {
            "needs_background": "light"
          }
        }
      ],
      "source": [
        "truncated_mae_history = average_mae_history[10:]\n",
        "plt.plot(range(1, len(truncated_mae_history) + 1), truncated_mae_history)\n",
        "plt.xlabel(\"Epochs\")\n",
        "plt.ylabel(\"Validation MAE\")\n",
        "plt.show()"
      ]
    },
    {
      "cell_type": "markdown",
      "metadata": {
        "id": "4m7L_Vx9c-MJ"
      },
      "source": [
        "**Training the final model**"
      ]
    },
    {
      "cell_type": "code",
      "execution_count": 57,
      "metadata": {
        "colab": {
          "base_uri": "https://localhost:8080/"
        },
        "id": "8_tLI4q7c-MJ",
        "outputId": "1a4e4c00-ad6b-4550-a800-a46245f92955"
      },
      "outputs": [
        {
          "output_type": "stream",
          "name": "stdout",
          "text": [
            "4/4 [==============================] - 0s 4ms/step - loss: 16.7798 - mae: 2.6942\n"
          ]
        }
      ],
      "source": [
        "model = build_model()\n",
        "model.fit(train_data, train_targets,\n",
        "          epochs=130, batch_size=16, verbose=0)\n",
        "test_mse_score, test_mae_score = model.evaluate(test_data, test_targets)"
      ]
    },
    {
      "cell_type": "code",
      "execution_count": 58,
      "metadata": {
        "colab": {
          "base_uri": "https://localhost:8080/"
        },
        "id": "UI9RvfCAc-MJ",
        "outputId": "e18183c6-d26c-41d6-c7f5-a789e3279143"
      },
      "outputs": [
        {
          "output_type": "execute_result",
          "data": {
            "text/plain": [
              "2.694181203842163"
            ]
          },
          "metadata": {},
          "execution_count": 58
        }
      ],
      "source": [
        "test_mae_score"
      ]
    },
    {
      "cell_type": "markdown",
      "metadata": {
        "id": "lkYhvoU0c-MJ"
      },
      "source": [
        "### Generating predictions on new data"
      ]
    },
    {
      "cell_type": "code",
      "execution_count": 59,
      "metadata": {
        "colab": {
          "base_uri": "https://localhost:8080/"
        },
        "id": "1bXFBajBc-MJ",
        "outputId": "01a15df9-c5f5-4b60-f8f8-3f0b1dc1c407"
      },
      "outputs": [
        {
          "output_type": "execute_result",
          "data": {
            "text/plain": [
              "array([7.3190174], dtype=float32)"
            ]
          },
          "metadata": {},
          "execution_count": 59
        }
      ],
      "source": [
        "predictions = model.predict(test_data)\n",
        "predictions[0]"
      ]
    },
    {
      "cell_type": "markdown",
      "metadata": {
        "id": "lGSjlLgoc-MJ"
      },
      "source": [
        "### Wrapping up"
      ]
    },
    {
      "cell_type": "markdown",
      "metadata": {
        "id": "0Q24qs72c-MJ"
      },
      "source": [
        "## Summary"
      ]
    }
  ],
  "metadata": {
    "colab": {
      "collapsed_sections": [],
      "provenance": []
    },
    "kernelspec": {
      "display_name": "Python 3",
      "language": "python",
      "name": "python3"
    },
    "language_info": {
      "codemirror_mode": {
        "name": "ipython",
        "version": 3
      },
      "file_extension": ".py",
      "mimetype": "text/x-python",
      "name": "python",
      "nbconvert_exporter": "python",
      "pygments_lexer": "ipython3",
      "version": "3.7.0"
    }
  },
  "nbformat": 4,
  "nbformat_minor": 0
}